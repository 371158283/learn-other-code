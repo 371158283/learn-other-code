{
 "cells": [
  {
   "cell_type": "code",
   "execution_count": 1,
   "metadata": {
    "collapsed": true
   },
   "outputs": [],
   "source": [
    "import sys\n",
    "sys.path.append(\"./\")\n",
    "from bayes_opt import BayesianOptimization"
   ]
  },
  {
   "cell_type": "code",
   "execution_count": 2,
   "metadata": {
    "collapsed": true
   },
   "outputs": [],
   "source": [
    "#创建BayesianOptimization对象\n",
    "bo = BayesianOptimization(lambda x, y: -x ** 2 - (y - 1) ** 2 + 1,\n",
    "                          {'x': (-4, 4), 'y': (-3, 3)})\n"
   ]
  },
  {
   "cell_type": "code",
   "execution_count": 3,
   "metadata": {
    "collapsed": true
   },
   "outputs": [],
   "source": [
    "#设定探索点，会对指定的探索点进行探索\n",
    "bo.explore({'x': [-1, 3], 'y': [-2, 2]})"
   ]
  },
  {
   "cell_type": "code",
   "execution_count": 4,
   "metadata": {
    "collapsed": true
   },
   "outputs": [],
   "source": [
    "#初始化，输入已知的样本点\n",
    "bo.initialize(\n",
    "    {\n",
    "        'target': [-1, -1],\n",
    "        'x': [1, 1],\n",
    "        'y': [0, 2]\n",
    "    }\n",
    ")"
   ]
  },
  {
   "cell_type": "code",
   "execution_count": 5,
   "metadata": {
    "scrolled": true
   },
   "outputs": [
    {
     "name": "stdout",
     "output_type": "stream",
     "text": [
      "\u001b[31mInitialization\u001b[0m\n",
      "\u001b[94m-----------------------------------------------------\u001b[0m\n",
      " Step |   Time |      Value |         x |         y | \n",
      "    1 | 00m00s | \u001b[35m  -9.00000\u001b[0m | \u001b[32m  -1.0000\u001b[0m | \u001b[32m  -2.0000\u001b[0m | \n",
      "    2 | 00m00s |   -9.00000 |    3.0000 |    2.0000 | \n",
      "    3 | 00m00s | \u001b[35m  -7.60309\u001b[0m | \u001b[32m   2.2816\u001b[0m | \u001b[32m  -0.8432\u001b[0m | \n",
      "    4 | 00m00s |  -11.43700 |   -3.1857 |   -0.5126 | \n",
      "    5 | 00m00s | \u001b[35m   0.16515\u001b[0m | \u001b[32m   0.8237\u001b[0m | \u001b[32m   1.3954\u001b[0m | \n",
      "    6 | 00m00s |  -13.84513 |    3.3859 |   -0.8386 | \n",
      "    7 | 00m00s |   -8.67307 |   -2.9767 |    1.9014 | \n",
      "\u001b[31mBayesian Optimization\u001b[0m\n",
      "\u001b[94m-----------------------------------------------------\u001b[0m\n",
      " Step |   Time |      Value |         x |         y | \n",
      "    8 | 00m04s | \u001b[35m   0.88447\u001b[0m | \u001b[32m   0.2711\u001b[0m | \u001b[32m   1.2051\u001b[0m | \n",
      "    9 | 00m02s |    0.57566 |    0.1859 |    1.6243 | \n",
      "   10 | 00m03s |    0.81826 |    0.4183 |    0.9179 | \n",
      "   11 | 00m03s |    0.80131 |    0.4045 |    1.1873 | \n",
      "   12 | 00m03s | \u001b[35m   0.99401\u001b[0m | \u001b[32m   0.0689\u001b[0m | \u001b[32m   0.9647\u001b[0m | \n",
      "   13 | 00m04s |    0.98709 |   -0.0345 |    1.1083 | \n",
      "   14 | 00m04s |    0.99109 |    0.0723 |    1.0606 | \n",
      "   15 | 00m09s | \u001b[35m   0.99855\u001b[0m | \u001b[32m  -0.0352\u001b[0m | \u001b[32m   0.9855\u001b[0m | \n",
      "   16 | 00m11s | \u001b[35m   0.99977\u001b[0m | \u001b[32m   0.0048\u001b[0m | \u001b[32m   1.0143\u001b[0m | \n",
      "   17 | 00m11s |    0.99589 |    0.0003 |    0.9359 | \n"
     ]
    },
    {
     "name": "stderr",
     "output_type": "stream",
     "text": [
      "d:\\ProgramData\\Anaconda3\\lib\\site-packages\\sklearn\\gaussian_process\\gpr.py:308: UserWarning: Predicted variances smaller than 0. Setting those variances to 0.\n",
      "  warnings.warn(\"Predicted variances smaller than 0. \"\n"
     ]
    },
    {
     "name": "stdout",
     "output_type": "stream",
     "text": [
      "   18 | 00m10s | \u001b[35m   0.99983\u001b[0m | \u001b[32m   0.0002\u001b[0m | \u001b[32m   0.9871\u001b[0m | \n"
     ]
    },
    {
     "name": "stderr",
     "output_type": "stream",
     "text": [
      "d:\\ProgramData\\Anaconda3\\lib\\site-packages\\sklearn\\gaussian_process\\gpr.py:427: UserWarning: fmin_l_bfgs_b terminated abnormally with the  state: {'grad': array([ -4.96457797e-05]), 'task': b'ABNORMAL_TERMINATION_IN_LNSRCH', 'funcalls': 51, 'nit': 3, 'warnflag': 2}\n",
      "  \" state: %s\" % convergence_dict)\n"
     ]
    },
    {
     "name": "stdout",
     "output_type": "stream",
     "text": [
      "   19 | 00m10s | \u001b[35m   0.99992\u001b[0m | \u001b[32m  -0.0080\u001b[0m | \u001b[32m   1.0035\u001b[0m | \n",
      "   20 | 00m09s | \u001b[35m   0.99994\u001b[0m | \u001b[32m   0.0051\u001b[0m | \u001b[32m   0.9943\u001b[0m | \n"
     ]
    },
    {
     "name": "stderr",
     "output_type": "stream",
     "text": [
      "d:\\ProgramData\\Anaconda3\\lib\\site-packages\\sklearn\\gaussian_process\\gpr.py:427: UserWarning: fmin_l_bfgs_b terminated abnormally with the  state: {'grad': array([-0.00019676]), 'task': b'ABNORMAL_TERMINATION_IN_LNSRCH', 'funcalls': 66, 'nit': 6, 'warnflag': 2}\n",
      "  \" state: %s\" % convergence_dict)\n",
      "d:\\ProgramData\\Anaconda3\\lib\\site-packages\\sklearn\\gaussian_process\\gpr.py:427: UserWarning: fmin_l_bfgs_b terminated abnormally with the  state: {'grad': array([-0.00016683]), 'task': b'ABNORMAL_TERMINATION_IN_LNSRCH', 'funcalls': 60, 'nit': 3, 'warnflag': 2}\n",
      "  \" state: %s\" % convergence_dict)\n",
      "d:\\ProgramData\\Anaconda3\\lib\\site-packages\\sklearn\\gaussian_process\\gpr.py:427: UserWarning: fmin_l_bfgs_b terminated abnormally with the  state: {'grad': array([-0.00028691]), 'task': b'ABNORMAL_TERMINATION_IN_LNSRCH', 'funcalls': 52, 'nit': 5, 'warnflag': 2}\n",
      "  \" state: %s\" % convergence_dict)\n"
     ]
    },
    {
     "name": "stdout",
     "output_type": "stream",
     "text": [
      "   21 | 00m08s | \u001b[35m   1.00000\u001b[0m | \u001b[32m  -0.0011\u001b[0m | \u001b[32m   0.9991\u001b[0m | \n"
     ]
    },
    {
     "name": "stderr",
     "output_type": "stream",
     "text": [
      "d:\\ProgramData\\Anaconda3\\lib\\site-packages\\sklearn\\gaussian_process\\gpr.py:427: UserWarning: fmin_l_bfgs_b terminated abnormally with the  state: {'grad': array([-96.1401072]), 'task': b'ABNORMAL_TERMINATION_IN_LNSRCH', 'funcalls': 21, 'nit': 0, 'warnflag': 2}\n",
      "  \" state: %s\" % convergence_dict)\n",
      "d:\\ProgramData\\Anaconda3\\lib\\site-packages\\sklearn\\gaussian_process\\gpr.py:427: UserWarning: fmin_l_bfgs_b terminated abnormally with the  state: {'grad': array([ 0.00019456]), 'task': b'ABNORMAL_TERMINATION_IN_LNSRCH', 'funcalls': 58, 'nit': 4, 'warnflag': 2}\n",
      "  \" state: %s\" % convergence_dict)\n"
     ]
    },
    {
     "name": "stdout",
     "output_type": "stream",
     "text": [
      "   22 | 00m07s |    0.99982 |   -0.0124 |    1.0053 | \n"
     ]
    }
   ],
   "source": [
    "#求解最大值\n",
    "bo.maximize(init_points=5, n_iter=15, kappa=2)"
   ]
  },
  {
   "cell_type": "code",
   "execution_count": 6,
   "metadata": {},
   "outputs": [
    {
     "name": "stdout",
     "output_type": "stream",
     "text": [
      "{'max_val': 0.99999803147753541, 'max_params': {'x': -0.0010990694525588839, 'y': 0.99912789404141633}}\n"
     ]
    }
   ],
   "source": [
    "#打印最大值的结果\n",
    "print(bo.res['max'])"
   ]
  },
  {
   "cell_type": "code",
   "execution_count": 7,
   "metadata": {
    "collapsed": true
   },
   "outputs": [],
   "source": [
    "#继续探索\n",
    "bo.explore({'x': [0.6], 'y': [-0.23]})"
   ]
  },
  {
   "cell_type": "code",
   "execution_count": 8,
   "metadata": {
    "collapsed": true
   },
   "outputs": [],
   "source": [
    "#Scikit-learn高斯过程对象的参数\n",
    "gp_params = {'kernel': None,\n",
    "             'alpha': 1e-5}"
   ]
  },
  {
   "cell_type": "code",
   "execution_count": 9,
   "metadata": {},
   "outputs": [
    {
     "name": "stdout",
     "output_type": "stream",
     "text": [
      "\u001b[31mBayesian Optimization\u001b[0m\n",
      "\u001b[94m-----------------------------------------------------\u001b[0m\n",
      " Step |   Time |      Value |         x |         y | \n",
      "   23 | 00m05s |  -31.00000 |   -4.0000 |   -3.0000 | \n",
      "   24 | 00m02s |  -17.57122 |    1.6035 |   -3.0000 | \n",
      "   25 | 00m01s |   -3.53162 |   -0.7291 |    3.0000 | \n",
      "   26 | 00m01s |    0.99993 |    0.0083 |    1.0026 | \n",
      "   27 | 00m01s |    0.99988 |   -0.0032 |    0.9897 | \n"
     ]
    }
   ],
   "source": [
    "bo.maximize(n_iter=5, acq='ei', **gp_params)"
   ]
  },
  {
   "cell_type": "code",
   "execution_count": 10,
   "metadata": {},
   "outputs": [
    {
     "name": "stdout",
     "output_type": "stream",
     "text": [
      "{'max_val': 0.99999803147753541, 'max_params': {'x': -0.0010990694525588839, 'y': 0.99912789404141633}}\n"
     ]
    }
   ],
   "source": [
    "print(bo.res['max'])\n"
   ]
  },
  {
   "cell_type": "code",
   "execution_count": 11,
   "metadata": {},
   "outputs": [
    {
     "name": "stdout",
     "output_type": "stream",
     "text": [
      "{'values': [0.99971286292724071, -9.8654626367960603, 0.58640459884409091, -0.4409349577379138, -14.309069013134472, 0.68394394016288995, 0.91805921166345916, 0.94867939038037685, 0.97265960848097011, 0.9441722099180504, 0.98592426945396117, 0.99623680702245576, 0.99857772518380927, 0.99981773703856813, 0.99992444090530752, -31.0, -19.279466794286378, -3.1093778140288286, 0.99996591227230058, 0.99982534463629402], 'params': [{'x': -0.016610541779967569, 'y': 1.0033506677745225}, {'x': -2.9345137708170963, 'y': 2.5013632357563864}, {'x': 0.040292989483824308, 'y': 1.6418503533958406}, {'x': 0.83722919824314879, 'y': 0.13977780350246238}, {'x': 1.4285342523789923, 'y': -2.6425758609690568}, {'x': -0.15618289669900406, 'y': 0.45994170442829208}, {'x': 0.19777883243528604, 'y': 0.7930596178193442}, {'x': -0.22470975788419295, 'y': 0.97125744737761521}, {'x': -0.033081194814585269, 'y': 0.83799374682232364}, {'x': -0.14854519405555527, 'y': 1.1837447017057827}, {'x': 0.10525975790402468, 'y': 1.0547367692874268}, {'x': 0.048000263100829735, 'y': 0.96180094608769329}, {'x': 0.014529258161981955, 'y': 1.0348019464032288}, {'x': 0.0083930934285039432, 'y': 0.9894255523013108}, {'x': 0.006434863176497857, 'y': 1.0058439396465222}, {'x': -4.0, 'y': -3.0}, {'x': 4.0, 'y': -1.0686872151889897}, {'x': 0.33072316826740306, 'y': 3.0}, {'x': -0.0048191427315478208, 'y': 1.003295996212433}, {'x': -0.0017549701637173953, 'y': 0.98690131901943978}]}\n"
     ]
    }
   ],
   "source": [
    "print(bo.res['all'])"
   ]
  },
  {
   "cell_type": "code",
   "execution_count": 9,
   "metadata": {
    "collapsed": true
   },
   "outputs": [],
   "source": [
    "bo.maximize?\n"
   ]
  },
  {
   "cell_type": "code",
   "execution_count": null,
   "metadata": {
    "collapsed": true
   },
   "outputs": [],
   "source": []
  }
 ],
 "metadata": {
  "kernelspec": {
   "display_name": "Python 3",
   "language": "python",
   "name": "python3"
  },
  "language_info": {
   "codemirror_mode": {
    "name": "ipython",
    "version": 3
   },
   "file_extension": ".py",
   "mimetype": "text/x-python",
   "name": "python",
   "nbconvert_exporter": "python",
   "pygments_lexer": "ipython3",
   "version": "3.6.1"
  }
 },
 "nbformat": 4,
 "nbformat_minor": 2
}
