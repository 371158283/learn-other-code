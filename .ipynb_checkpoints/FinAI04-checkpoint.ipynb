{
 "cells": [
  {
   "cell_type": "code",
   "execution_count": 2,
   "metadata": {
    "collapsed": true
   },
   "outputs": [],
   "source": [
    "%matplotlib inline\n",
    "import pandas as pd\n",
    "import numpy as np \n",
    "import matplotlib.pyplot as plt\n",
    "import seaborn as sns\n",
    "import matplotlib.gridspec as gridspec\n",
    "pd.set_option(\"display.max_columns\",101)\n",
    "pd.set_option('display.float_format', lambda x: '%.5f' % x) #为了直观的显示数字，不采用科学计数法\n",
    "pd.options.display.max_rows = 15 #最多显示15行\n",
    "import warnings\n",
    "warnings.filterwarnings('ignore') #为了整洁，去除弹出的warnings"
   ]
  },
  {
   "cell_type": "code",
   "execution_count": 3,
   "metadata": {
    "collapsed": true
   },
   "outputs": [],
   "source": [
    "df = pd.read_csv(\"d:/data/cs-training.csv\",index_col=0)  # 读入数据"
   ]
  },
  {
   "cell_type": "code",
   "execution_count": 4,
   "metadata": {},
   "outputs": [
    {
     "data": {
      "text/html": [
       "<div>\n",
       "<style>\n",
       "    .dataframe thead tr:only-child th {\n",
       "        text-align: right;\n",
       "    }\n",
       "\n",
       "    .dataframe thead th {\n",
       "        text-align: left;\n",
       "    }\n",
       "\n",
       "    .dataframe tbody tr th {\n",
       "        vertical-align: top;\n",
       "    }\n",
       "</style>\n",
       "<table border=\"1\" class=\"dataframe\">\n",
       "  <thead>\n",
       "    <tr style=\"text-align: right;\">\n",
       "      <th></th>\n",
       "      <th>SeriousDlqin2yrs</th>\n",
       "      <th>RevolvingUtilizationOfUnsecuredLines</th>\n",
       "      <th>age</th>\n",
       "      <th>NumberOfTime30-59DaysPastDueNotWorse</th>\n",
       "      <th>DebtRatio</th>\n",
       "      <th>MonthlyIncome</th>\n",
       "      <th>NumberOfOpenCreditLinesAndLoans</th>\n",
       "      <th>NumberOfTimes90DaysLate</th>\n",
       "      <th>NumberRealEstateLoansOrLines</th>\n",
       "      <th>NumberOfTime60-89DaysPastDueNotWorse</th>\n",
       "      <th>NumberOfDependents</th>\n",
       "    </tr>\n",
       "  </thead>\n",
       "  <tbody>\n",
       "    <tr>\n",
       "      <th>1</th>\n",
       "      <td>1</td>\n",
       "      <td>0.76613</td>\n",
       "      <td>45</td>\n",
       "      <td>2</td>\n",
       "      <td>0.80298</td>\n",
       "      <td>9120.00000</td>\n",
       "      <td>13</td>\n",
       "      <td>0</td>\n",
       "      <td>6</td>\n",
       "      <td>0</td>\n",
       "      <td>2.00000</td>\n",
       "    </tr>\n",
       "    <tr>\n",
       "      <th>2</th>\n",
       "      <td>0</td>\n",
       "      <td>0.95715</td>\n",
       "      <td>40</td>\n",
       "      <td>0</td>\n",
       "      <td>0.12188</td>\n",
       "      <td>2600.00000</td>\n",
       "      <td>4</td>\n",
       "      <td>0</td>\n",
       "      <td>0</td>\n",
       "      <td>0</td>\n",
       "      <td>1.00000</td>\n",
       "    </tr>\n",
       "    <tr>\n",
       "      <th>3</th>\n",
       "      <td>0</td>\n",
       "      <td>0.65818</td>\n",
       "      <td>38</td>\n",
       "      <td>1</td>\n",
       "      <td>0.08511</td>\n",
       "      <td>3042.00000</td>\n",
       "      <td>2</td>\n",
       "      <td>1</td>\n",
       "      <td>0</td>\n",
       "      <td>0</td>\n",
       "      <td>0.00000</td>\n",
       "    </tr>\n",
       "    <tr>\n",
       "      <th>4</th>\n",
       "      <td>0</td>\n",
       "      <td>0.23381</td>\n",
       "      <td>30</td>\n",
       "      <td>0</td>\n",
       "      <td>0.03605</td>\n",
       "      <td>3300.00000</td>\n",
       "      <td>5</td>\n",
       "      <td>0</td>\n",
       "      <td>0</td>\n",
       "      <td>0</td>\n",
       "      <td>0.00000</td>\n",
       "    </tr>\n",
       "    <tr>\n",
       "      <th>5</th>\n",
       "      <td>0</td>\n",
       "      <td>0.90724</td>\n",
       "      <td>49</td>\n",
       "      <td>1</td>\n",
       "      <td>0.02493</td>\n",
       "      <td>63588.00000</td>\n",
       "      <td>7</td>\n",
       "      <td>0</td>\n",
       "      <td>1</td>\n",
       "      <td>0</td>\n",
       "      <td>0.00000</td>\n",
       "    </tr>\n",
       "    <tr>\n",
       "      <th>6</th>\n",
       "      <td>0</td>\n",
       "      <td>0.21318</td>\n",
       "      <td>74</td>\n",
       "      <td>0</td>\n",
       "      <td>0.37561</td>\n",
       "      <td>3500.00000</td>\n",
       "      <td>3</td>\n",
       "      <td>0</td>\n",
       "      <td>1</td>\n",
       "      <td>0</td>\n",
       "      <td>1.00000</td>\n",
       "    </tr>\n",
       "    <tr>\n",
       "      <th>7</th>\n",
       "      <td>0</td>\n",
       "      <td>0.30568</td>\n",
       "      <td>57</td>\n",
       "      <td>0</td>\n",
       "      <td>5710.00000</td>\n",
       "      <td>nan</td>\n",
       "      <td>8</td>\n",
       "      <td>0</td>\n",
       "      <td>3</td>\n",
       "      <td>0</td>\n",
       "      <td>0.00000</td>\n",
       "    </tr>\n",
       "    <tr>\n",
       "      <th>...</th>\n",
       "      <td>...</td>\n",
       "      <td>...</td>\n",
       "      <td>...</td>\n",
       "      <td>...</td>\n",
       "      <td>...</td>\n",
       "      <td>...</td>\n",
       "      <td>...</td>\n",
       "      <td>...</td>\n",
       "      <td>...</td>\n",
       "      <td>...</td>\n",
       "      <td>...</td>\n",
       "    </tr>\n",
       "    <tr>\n",
       "      <th>149994</th>\n",
       "      <td>0</td>\n",
       "      <td>1.00000</td>\n",
       "      <td>22</td>\n",
       "      <td>0</td>\n",
       "      <td>0.00000</td>\n",
       "      <td>820.00000</td>\n",
       "      <td>1</td>\n",
       "      <td>0</td>\n",
       "      <td>0</td>\n",
       "      <td>0</td>\n",
       "      <td>0.00000</td>\n",
       "    </tr>\n",
       "    <tr>\n",
       "      <th>149995</th>\n",
       "      <td>0</td>\n",
       "      <td>0.38574</td>\n",
       "      <td>50</td>\n",
       "      <td>0</td>\n",
       "      <td>0.40429</td>\n",
       "      <td>3400.00000</td>\n",
       "      <td>7</td>\n",
       "      <td>0</td>\n",
       "      <td>0</td>\n",
       "      <td>0</td>\n",
       "      <td>0.00000</td>\n",
       "    </tr>\n",
       "    <tr>\n",
       "      <th>149996</th>\n",
       "      <td>0</td>\n",
       "      <td>0.04067</td>\n",
       "      <td>74</td>\n",
       "      <td>0</td>\n",
       "      <td>0.22513</td>\n",
       "      <td>2100.00000</td>\n",
       "      <td>4</td>\n",
       "      <td>0</td>\n",
       "      <td>1</td>\n",
       "      <td>0</td>\n",
       "      <td>0.00000</td>\n",
       "    </tr>\n",
       "    <tr>\n",
       "      <th>149997</th>\n",
       "      <td>0</td>\n",
       "      <td>0.29975</td>\n",
       "      <td>44</td>\n",
       "      <td>0</td>\n",
       "      <td>0.71656</td>\n",
       "      <td>5584.00000</td>\n",
       "      <td>4</td>\n",
       "      <td>0</td>\n",
       "      <td>1</td>\n",
       "      <td>0</td>\n",
       "      <td>2.00000</td>\n",
       "    </tr>\n",
       "    <tr>\n",
       "      <th>149998</th>\n",
       "      <td>0</td>\n",
       "      <td>0.24604</td>\n",
       "      <td>58</td>\n",
       "      <td>0</td>\n",
       "      <td>3870.00000</td>\n",
       "      <td>nan</td>\n",
       "      <td>18</td>\n",
       "      <td>0</td>\n",
       "      <td>1</td>\n",
       "      <td>0</td>\n",
       "      <td>0.00000</td>\n",
       "    </tr>\n",
       "    <tr>\n",
       "      <th>149999</th>\n",
       "      <td>0</td>\n",
       "      <td>0.00000</td>\n",
       "      <td>30</td>\n",
       "      <td>0</td>\n",
       "      <td>0.00000</td>\n",
       "      <td>5716.00000</td>\n",
       "      <td>4</td>\n",
       "      <td>0</td>\n",
       "      <td>0</td>\n",
       "      <td>0</td>\n",
       "      <td>0.00000</td>\n",
       "    </tr>\n",
       "    <tr>\n",
       "      <th>150000</th>\n",
       "      <td>0</td>\n",
       "      <td>0.85028</td>\n",
       "      <td>64</td>\n",
       "      <td>0</td>\n",
       "      <td>0.24991</td>\n",
       "      <td>8158.00000</td>\n",
       "      <td>8</td>\n",
       "      <td>0</td>\n",
       "      <td>2</td>\n",
       "      <td>0</td>\n",
       "      <td>0.00000</td>\n",
       "    </tr>\n",
       "  </tbody>\n",
       "</table>\n",
       "<p>150000 rows × 11 columns</p>\n",
       "</div>"
      ],
      "text/plain": [
       "        SeriousDlqin2yrs  RevolvingUtilizationOfUnsecuredLines  age  \\\n",
       "1                      1                               0.76613   45   \n",
       "2                      0                               0.95715   40   \n",
       "3                      0                               0.65818   38   \n",
       "4                      0                               0.23381   30   \n",
       "5                      0                               0.90724   49   \n",
       "6                      0                               0.21318   74   \n",
       "7                      0                               0.30568   57   \n",
       "...                  ...                                   ...  ...   \n",
       "149994                 0                               1.00000   22   \n",
       "149995                 0                               0.38574   50   \n",
       "149996                 0                               0.04067   74   \n",
       "149997                 0                               0.29975   44   \n",
       "149998                 0                               0.24604   58   \n",
       "149999                 0                               0.00000   30   \n",
       "150000                 0                               0.85028   64   \n",
       "\n",
       "        NumberOfTime30-59DaysPastDueNotWorse  DebtRatio  MonthlyIncome  \\\n",
       "1                                          2    0.80298     9120.00000   \n",
       "2                                          0    0.12188     2600.00000   \n",
       "3                                          1    0.08511     3042.00000   \n",
       "4                                          0    0.03605     3300.00000   \n",
       "5                                          1    0.02493    63588.00000   \n",
       "6                                          0    0.37561     3500.00000   \n",
       "7                                          0 5710.00000            nan   \n",
       "...                                      ...        ...            ...   \n",
       "149994                                     0    0.00000      820.00000   \n",
       "149995                                     0    0.40429     3400.00000   \n",
       "149996                                     0    0.22513     2100.00000   \n",
       "149997                                     0    0.71656     5584.00000   \n",
       "149998                                     0 3870.00000            nan   \n",
       "149999                                     0    0.00000     5716.00000   \n",
       "150000                                     0    0.24991     8158.00000   \n",
       "\n",
       "        NumberOfOpenCreditLinesAndLoans  NumberOfTimes90DaysLate  \\\n",
       "1                                    13                        0   \n",
       "2                                     4                        0   \n",
       "3                                     2                        1   \n",
       "4                                     5                        0   \n",
       "5                                     7                        0   \n",
       "6                                     3                        0   \n",
       "7                                     8                        0   \n",
       "...                                 ...                      ...   \n",
       "149994                                1                        0   \n",
       "149995                                7                        0   \n",
       "149996                                4                        0   \n",
       "149997                                4                        0   \n",
       "149998                               18                        0   \n",
       "149999                                4                        0   \n",
       "150000                                8                        0   \n",
       "\n",
       "        NumberRealEstateLoansOrLines  NumberOfTime60-89DaysPastDueNotWorse  \\\n",
       "1                                  6                                     0   \n",
       "2                                  0                                     0   \n",
       "3                                  0                                     0   \n",
       "4                                  0                                     0   \n",
       "5                                  1                                     0   \n",
       "6                                  1                                     0   \n",
       "7                                  3                                     0   \n",
       "...                              ...                                   ...   \n",
       "149994                             0                                     0   \n",
       "149995                             0                                     0   \n",
       "149996                             1                                     0   \n",
       "149997                             1                                     0   \n",
       "149998                             1                                     0   \n",
       "149999                             0                                     0   \n",
       "150000                             2                                     0   \n",
       "\n",
       "        NumberOfDependents  \n",
       "1                  2.00000  \n",
       "2                  1.00000  \n",
       "3                  0.00000  \n",
       "4                  0.00000  \n",
       "5                  0.00000  \n",
       "6                  1.00000  \n",
       "7                  0.00000  \n",
       "...                    ...  \n",
       "149994             0.00000  \n",
       "149995             0.00000  \n",
       "149996             0.00000  \n",
       "149997             2.00000  \n",
       "149998             0.00000  \n",
       "149999             0.00000  \n",
       "150000             0.00000  \n",
       "\n",
       "[150000 rows x 11 columns]"
      ]
     },
     "execution_count": 4,
     "metadata": {},
     "output_type": "execute_result"
    }
   ],
   "source": [
    "df "
   ]
  },
  {
   "cell_type": "code",
   "execution_count": 5,
   "metadata": {
    "collapsed": true
   },
   "outputs": [],
   "source": [
    "test= pd.read_csv(\"d:/data/cs-test.csv\",index_col=0)"
   ]
  },
  {
   "cell_type": "code",
   "execution_count": 6,
   "metadata": {
    "scrolled": true
   },
   "outputs": [
    {
     "data": {
      "text/html": [
       "<div>\n",
       "<style>\n",
       "    .dataframe thead tr:only-child th {\n",
       "        text-align: right;\n",
       "    }\n",
       "\n",
       "    .dataframe thead th {\n",
       "        text-align: left;\n",
       "    }\n",
       "\n",
       "    .dataframe tbody tr th {\n",
       "        vertical-align: top;\n",
       "    }\n",
       "</style>\n",
       "<table border=\"1\" class=\"dataframe\">\n",
       "  <thead>\n",
       "    <tr style=\"text-align: right;\">\n",
       "      <th></th>\n",
       "      <th>SeriousDlqin2yrs</th>\n",
       "      <th>RevolvingUtilizationOfUnsecuredLines</th>\n",
       "      <th>age</th>\n",
       "      <th>NumberOfTime30-59DaysPastDueNotWorse</th>\n",
       "      <th>DebtRatio</th>\n",
       "      <th>MonthlyIncome</th>\n",
       "      <th>NumberOfOpenCreditLinesAndLoans</th>\n",
       "      <th>NumberOfTimes90DaysLate</th>\n",
       "      <th>NumberRealEstateLoansOrLines</th>\n",
       "      <th>NumberOfTime60-89DaysPastDueNotWorse</th>\n",
       "      <th>NumberOfDependents</th>\n",
       "    </tr>\n",
       "  </thead>\n",
       "  <tbody>\n",
       "    <tr>\n",
       "      <th>1</th>\n",
       "      <td>nan</td>\n",
       "      <td>0.88552</td>\n",
       "      <td>43</td>\n",
       "      <td>0</td>\n",
       "      <td>0.17751</td>\n",
       "      <td>5700.00000</td>\n",
       "      <td>4</td>\n",
       "      <td>0</td>\n",
       "      <td>0</td>\n",
       "      <td>0</td>\n",
       "      <td>0.00000</td>\n",
       "    </tr>\n",
       "    <tr>\n",
       "      <th>2</th>\n",
       "      <td>nan</td>\n",
       "      <td>0.46330</td>\n",
       "      <td>57</td>\n",
       "      <td>0</td>\n",
       "      <td>0.52724</td>\n",
       "      <td>9141.00000</td>\n",
       "      <td>15</td>\n",
       "      <td>0</td>\n",
       "      <td>4</td>\n",
       "      <td>0</td>\n",
       "      <td>2.00000</td>\n",
       "    </tr>\n",
       "    <tr>\n",
       "      <th>3</th>\n",
       "      <td>nan</td>\n",
       "      <td>0.04328</td>\n",
       "      <td>59</td>\n",
       "      <td>0</td>\n",
       "      <td>0.68765</td>\n",
       "      <td>5083.00000</td>\n",
       "      <td>12</td>\n",
       "      <td>0</td>\n",
       "      <td>1</td>\n",
       "      <td>0</td>\n",
       "      <td>2.00000</td>\n",
       "    </tr>\n",
       "    <tr>\n",
       "      <th>4</th>\n",
       "      <td>nan</td>\n",
       "      <td>0.28031</td>\n",
       "      <td>38</td>\n",
       "      <td>1</td>\n",
       "      <td>0.92596</td>\n",
       "      <td>3200.00000</td>\n",
       "      <td>7</td>\n",
       "      <td>0</td>\n",
       "      <td>2</td>\n",
       "      <td>0</td>\n",
       "      <td>0.00000</td>\n",
       "    </tr>\n",
       "    <tr>\n",
       "      <th>5</th>\n",
       "      <td>nan</td>\n",
       "      <td>1.00000</td>\n",
       "      <td>27</td>\n",
       "      <td>0</td>\n",
       "      <td>0.01992</td>\n",
       "      <td>3865.00000</td>\n",
       "      <td>4</td>\n",
       "      <td>0</td>\n",
       "      <td>0</td>\n",
       "      <td>0</td>\n",
       "      <td>1.00000</td>\n",
       "    </tr>\n",
       "    <tr>\n",
       "      <th>6</th>\n",
       "      <td>nan</td>\n",
       "      <td>0.50979</td>\n",
       "      <td>63</td>\n",
       "      <td>0</td>\n",
       "      <td>0.34243</td>\n",
       "      <td>4140.00000</td>\n",
       "      <td>4</td>\n",
       "      <td>0</td>\n",
       "      <td>0</td>\n",
       "      <td>0</td>\n",
       "      <td>1.00000</td>\n",
       "    </tr>\n",
       "    <tr>\n",
       "      <th>7</th>\n",
       "      <td>nan</td>\n",
       "      <td>0.58778</td>\n",
       "      <td>50</td>\n",
       "      <td>0</td>\n",
       "      <td>1048.00000</td>\n",
       "      <td>0.00000</td>\n",
       "      <td>5</td>\n",
       "      <td>0</td>\n",
       "      <td>0</td>\n",
       "      <td>0</td>\n",
       "      <td>3.00000</td>\n",
       "    </tr>\n",
       "    <tr>\n",
       "      <th>...</th>\n",
       "      <td>...</td>\n",
       "      <td>...</td>\n",
       "      <td>...</td>\n",
       "      <td>...</td>\n",
       "      <td>...</td>\n",
       "      <td>...</td>\n",
       "      <td>...</td>\n",
       "      <td>...</td>\n",
       "      <td>...</td>\n",
       "      <td>...</td>\n",
       "      <td>...</td>\n",
       "    </tr>\n",
       "    <tr>\n",
       "      <th>101497</th>\n",
       "      <td>nan</td>\n",
       "      <td>0.02165</td>\n",
       "      <td>78</td>\n",
       "      <td>0</td>\n",
       "      <td>18.00000</td>\n",
       "      <td>nan</td>\n",
       "      <td>8</td>\n",
       "      <td>0</td>\n",
       "      <td>0</td>\n",
       "      <td>0</td>\n",
       "      <td>0.00000</td>\n",
       "    </tr>\n",
       "    <tr>\n",
       "      <th>101498</th>\n",
       "      <td>nan</td>\n",
       "      <td>0.04523</td>\n",
       "      <td>67</td>\n",
       "      <td>0</td>\n",
       "      <td>0.01220</td>\n",
       "      <td>5000.00000</td>\n",
       "      <td>4</td>\n",
       "      <td>0</td>\n",
       "      <td>0</td>\n",
       "      <td>0</td>\n",
       "      <td>0.00000</td>\n",
       "    </tr>\n",
       "    <tr>\n",
       "      <th>101499</th>\n",
       "      <td>nan</td>\n",
       "      <td>0.28265</td>\n",
       "      <td>24</td>\n",
       "      <td>0</td>\n",
       "      <td>0.06852</td>\n",
       "      <td>1400.00000</td>\n",
       "      <td>5</td>\n",
       "      <td>0</td>\n",
       "      <td>0</td>\n",
       "      <td>0</td>\n",
       "      <td>0.00000</td>\n",
       "    </tr>\n",
       "    <tr>\n",
       "      <th>101500</th>\n",
       "      <td>nan</td>\n",
       "      <td>0.92216</td>\n",
       "      <td>36</td>\n",
       "      <td>3</td>\n",
       "      <td>0.93422</td>\n",
       "      <td>7615.00000</td>\n",
       "      <td>8</td>\n",
       "      <td>0</td>\n",
       "      <td>2</td>\n",
       "      <td>0</td>\n",
       "      <td>4.00000</td>\n",
       "    </tr>\n",
       "    <tr>\n",
       "      <th>101501</th>\n",
       "      <td>nan</td>\n",
       "      <td>0.08160</td>\n",
       "      <td>70</td>\n",
       "      <td>0</td>\n",
       "      <td>836.00000</td>\n",
       "      <td>nan</td>\n",
       "      <td>3</td>\n",
       "      <td>0</td>\n",
       "      <td>0</td>\n",
       "      <td>0</td>\n",
       "      <td>nan</td>\n",
       "    </tr>\n",
       "    <tr>\n",
       "      <th>101502</th>\n",
       "      <td>nan</td>\n",
       "      <td>0.33546</td>\n",
       "      <td>56</td>\n",
       "      <td>0</td>\n",
       "      <td>3568.00000</td>\n",
       "      <td>nan</td>\n",
       "      <td>8</td>\n",
       "      <td>0</td>\n",
       "      <td>2</td>\n",
       "      <td>1</td>\n",
       "      <td>3.00000</td>\n",
       "    </tr>\n",
       "    <tr>\n",
       "      <th>101503</th>\n",
       "      <td>nan</td>\n",
       "      <td>0.44184</td>\n",
       "      <td>29</td>\n",
       "      <td>0</td>\n",
       "      <td>0.19892</td>\n",
       "      <td>5916.00000</td>\n",
       "      <td>12</td>\n",
       "      <td>0</td>\n",
       "      <td>0</td>\n",
       "      <td>0</td>\n",
       "      <td>0.00000</td>\n",
       "    </tr>\n",
       "  </tbody>\n",
       "</table>\n",
       "<p>101503 rows × 11 columns</p>\n",
       "</div>"
      ],
      "text/plain": [
       "        SeriousDlqin2yrs  RevolvingUtilizationOfUnsecuredLines  age  \\\n",
       "1                    nan                               0.88552   43   \n",
       "2                    nan                               0.46330   57   \n",
       "3                    nan                               0.04328   59   \n",
       "4                    nan                               0.28031   38   \n",
       "5                    nan                               1.00000   27   \n",
       "6                    nan                               0.50979   63   \n",
       "7                    nan                               0.58778   50   \n",
       "...                  ...                                   ...  ...   \n",
       "101497               nan                               0.02165   78   \n",
       "101498               nan                               0.04523   67   \n",
       "101499               nan                               0.28265   24   \n",
       "101500               nan                               0.92216   36   \n",
       "101501               nan                               0.08160   70   \n",
       "101502               nan                               0.33546   56   \n",
       "101503               nan                               0.44184   29   \n",
       "\n",
       "        NumberOfTime30-59DaysPastDueNotWorse  DebtRatio  MonthlyIncome  \\\n",
       "1                                          0    0.17751     5700.00000   \n",
       "2                                          0    0.52724     9141.00000   \n",
       "3                                          0    0.68765     5083.00000   \n",
       "4                                          1    0.92596     3200.00000   \n",
       "5                                          0    0.01992     3865.00000   \n",
       "6                                          0    0.34243     4140.00000   \n",
       "7                                          0 1048.00000        0.00000   \n",
       "...                                      ...        ...            ...   \n",
       "101497                                     0   18.00000            nan   \n",
       "101498                                     0    0.01220     5000.00000   \n",
       "101499                                     0    0.06852     1400.00000   \n",
       "101500                                     3    0.93422     7615.00000   \n",
       "101501                                     0  836.00000            nan   \n",
       "101502                                     0 3568.00000            nan   \n",
       "101503                                     0    0.19892     5916.00000   \n",
       "\n",
       "        NumberOfOpenCreditLinesAndLoans  NumberOfTimes90DaysLate  \\\n",
       "1                                     4                        0   \n",
       "2                                    15                        0   \n",
       "3                                    12                        0   \n",
       "4                                     7                        0   \n",
       "5                                     4                        0   \n",
       "6                                     4                        0   \n",
       "7                                     5                        0   \n",
       "...                                 ...                      ...   \n",
       "101497                                8                        0   \n",
       "101498                                4                        0   \n",
       "101499                                5                        0   \n",
       "101500                                8                        0   \n",
       "101501                                3                        0   \n",
       "101502                                8                        0   \n",
       "101503                               12                        0   \n",
       "\n",
       "        NumberRealEstateLoansOrLines  NumberOfTime60-89DaysPastDueNotWorse  \\\n",
       "1                                  0                                     0   \n",
       "2                                  4                                     0   \n",
       "3                                  1                                     0   \n",
       "4                                  2                                     0   \n",
       "5                                  0                                     0   \n",
       "6                                  0                                     0   \n",
       "7                                  0                                     0   \n",
       "...                              ...                                   ...   \n",
       "101497                             0                                     0   \n",
       "101498                             0                                     0   \n",
       "101499                             0                                     0   \n",
       "101500                             2                                     0   \n",
       "101501                             0                                     0   \n",
       "101502                             2                                     1   \n",
       "101503                             0                                     0   \n",
       "\n",
       "        NumberOfDependents  \n",
       "1                  0.00000  \n",
       "2                  2.00000  \n",
       "3                  2.00000  \n",
       "4                  0.00000  \n",
       "5                  1.00000  \n",
       "6                  1.00000  \n",
       "7                  3.00000  \n",
       "...                    ...  \n",
       "101497             0.00000  \n",
       "101498             0.00000  \n",
       "101499             0.00000  \n",
       "101500             4.00000  \n",
       "101501                 nan  \n",
       "101502             3.00000  \n",
       "101503             0.00000  \n",
       "\n",
       "[101503 rows x 11 columns]"
      ]
     },
     "execution_count": 6,
     "metadata": {},
     "output_type": "execute_result"
    }
   ],
   "source": [
    "test"
   ]
  },
  {
   "cell_type": "code",
   "execution_count": 7,
   "metadata": {},
   "outputs": [
    {
     "data": {
      "text/html": [
       "<div>\n",
       "<style>\n",
       "    .dataframe thead tr:only-child th {\n",
       "        text-align: right;\n",
       "    }\n",
       "\n",
       "    .dataframe thead th {\n",
       "        text-align: left;\n",
       "    }\n",
       "\n",
       "    .dataframe tbody tr th {\n",
       "        vertical-align: top;\n",
       "    }\n",
       "</style>\n",
       "<table border=\"1\" class=\"dataframe\">\n",
       "  <thead>\n",
       "    <tr style=\"text-align: right;\">\n",
       "      <th></th>\n",
       "      <th>SeriousDlqin2yrs</th>\n",
       "      <th>RevolvingUtilizationOfUnsecuredLines</th>\n",
       "      <th>age</th>\n",
       "      <th>NumberOfTime30-59DaysPastDueNotWorse</th>\n",
       "      <th>DebtRatio</th>\n",
       "      <th>MonthlyIncome</th>\n",
       "      <th>NumberOfOpenCreditLinesAndLoans</th>\n",
       "      <th>NumberOfTimes90DaysLate</th>\n",
       "      <th>NumberRealEstateLoansOrLines</th>\n",
       "      <th>NumberOfTime60-89DaysPastDueNotWorse</th>\n",
       "      <th>NumberOfDependents</th>\n",
       "    </tr>\n",
       "  </thead>\n",
       "  <tbody>\n",
       "    <tr>\n",
       "      <th>count</th>\n",
       "      <td>150000.00000</td>\n",
       "      <td>150000.00000</td>\n",
       "      <td>150000.00000</td>\n",
       "      <td>150000.00000</td>\n",
       "      <td>150000.00000</td>\n",
       "      <td>120269.00000</td>\n",
       "      <td>150000.00000</td>\n",
       "      <td>150000.00000</td>\n",
       "      <td>150000.00000</td>\n",
       "      <td>150000.00000</td>\n",
       "      <td>146076.00000</td>\n",
       "    </tr>\n",
       "    <tr>\n",
       "      <th>mean</th>\n",
       "      <td>0.06684</td>\n",
       "      <td>6.04844</td>\n",
       "      <td>52.29521</td>\n",
       "      <td>0.42103</td>\n",
       "      <td>353.00508</td>\n",
       "      <td>6670.22124</td>\n",
       "      <td>8.45276</td>\n",
       "      <td>0.26597</td>\n",
       "      <td>1.01824</td>\n",
       "      <td>0.24039</td>\n",
       "      <td>0.75722</td>\n",
       "    </tr>\n",
       "    <tr>\n",
       "      <th>std</th>\n",
       "      <td>0.24975</td>\n",
       "      <td>249.75537</td>\n",
       "      <td>14.77187</td>\n",
       "      <td>4.19278</td>\n",
       "      <td>2037.81852</td>\n",
       "      <td>14384.67422</td>\n",
       "      <td>5.14595</td>\n",
       "      <td>4.16930</td>\n",
       "      <td>1.12977</td>\n",
       "      <td>4.15518</td>\n",
       "      <td>1.11509</td>\n",
       "    </tr>\n",
       "    <tr>\n",
       "      <th>min</th>\n",
       "      <td>0.00000</td>\n",
       "      <td>0.00000</td>\n",
       "      <td>0.00000</td>\n",
       "      <td>0.00000</td>\n",
       "      <td>0.00000</td>\n",
       "      <td>0.00000</td>\n",
       "      <td>0.00000</td>\n",
       "      <td>0.00000</td>\n",
       "      <td>0.00000</td>\n",
       "      <td>0.00000</td>\n",
       "      <td>0.00000</td>\n",
       "    </tr>\n",
       "    <tr>\n",
       "      <th>25%</th>\n",
       "      <td>0.00000</td>\n",
       "      <td>0.02987</td>\n",
       "      <td>41.00000</td>\n",
       "      <td>0.00000</td>\n",
       "      <td>0.17507</td>\n",
       "      <td>3400.00000</td>\n",
       "      <td>5.00000</td>\n",
       "      <td>0.00000</td>\n",
       "      <td>0.00000</td>\n",
       "      <td>0.00000</td>\n",
       "      <td>0.00000</td>\n",
       "    </tr>\n",
       "    <tr>\n",
       "      <th>50%</th>\n",
       "      <td>0.00000</td>\n",
       "      <td>0.15418</td>\n",
       "      <td>52.00000</td>\n",
       "      <td>0.00000</td>\n",
       "      <td>0.36651</td>\n",
       "      <td>5400.00000</td>\n",
       "      <td>8.00000</td>\n",
       "      <td>0.00000</td>\n",
       "      <td>1.00000</td>\n",
       "      <td>0.00000</td>\n",
       "      <td>0.00000</td>\n",
       "    </tr>\n",
       "    <tr>\n",
       "      <th>75%</th>\n",
       "      <td>0.00000</td>\n",
       "      <td>0.55905</td>\n",
       "      <td>63.00000</td>\n",
       "      <td>0.00000</td>\n",
       "      <td>0.86825</td>\n",
       "      <td>8249.00000</td>\n",
       "      <td>11.00000</td>\n",
       "      <td>0.00000</td>\n",
       "      <td>2.00000</td>\n",
       "      <td>0.00000</td>\n",
       "      <td>1.00000</td>\n",
       "    </tr>\n",
       "    <tr>\n",
       "      <th>max</th>\n",
       "      <td>1.00000</td>\n",
       "      <td>50708.00000</td>\n",
       "      <td>109.00000</td>\n",
       "      <td>98.00000</td>\n",
       "      <td>329664.00000</td>\n",
       "      <td>3008750.00000</td>\n",
       "      <td>58.00000</td>\n",
       "      <td>98.00000</td>\n",
       "      <td>54.00000</td>\n",
       "      <td>98.00000</td>\n",
       "      <td>20.00000</td>\n",
       "    </tr>\n",
       "  </tbody>\n",
       "</table>\n",
       "</div>"
      ],
      "text/plain": [
       "       SeriousDlqin2yrs  RevolvingUtilizationOfUnsecuredLines          age  \\\n",
       "count      150000.00000                          150000.00000 150000.00000   \n",
       "mean            0.06684                               6.04844     52.29521   \n",
       "std             0.24975                             249.75537     14.77187   \n",
       "min             0.00000                               0.00000      0.00000   \n",
       "25%             0.00000                               0.02987     41.00000   \n",
       "50%             0.00000                               0.15418     52.00000   \n",
       "75%             0.00000                               0.55905     63.00000   \n",
       "max             1.00000                           50708.00000    109.00000   \n",
       "\n",
       "       NumberOfTime30-59DaysPastDueNotWorse    DebtRatio  MonthlyIncome  \\\n",
       "count                          150000.00000 150000.00000   120269.00000   \n",
       "mean                                0.42103    353.00508     6670.22124   \n",
       "std                                 4.19278   2037.81852    14384.67422   \n",
       "min                                 0.00000      0.00000        0.00000   \n",
       "25%                                 0.00000      0.17507     3400.00000   \n",
       "50%                                 0.00000      0.36651     5400.00000   \n",
       "75%                                 0.00000      0.86825     8249.00000   \n",
       "max                                98.00000 329664.00000  3008750.00000   \n",
       "\n",
       "       NumberOfOpenCreditLinesAndLoans  NumberOfTimes90DaysLate  \\\n",
       "count                     150000.00000             150000.00000   \n",
       "mean                           8.45276                  0.26597   \n",
       "std                            5.14595                  4.16930   \n",
       "min                            0.00000                  0.00000   \n",
       "25%                            5.00000                  0.00000   \n",
       "50%                            8.00000                  0.00000   \n",
       "75%                           11.00000                  0.00000   \n",
       "max                           58.00000                 98.00000   \n",
       "\n",
       "       NumberRealEstateLoansOrLines  NumberOfTime60-89DaysPastDueNotWorse  \\\n",
       "count                  150000.00000                          150000.00000   \n",
       "mean                        1.01824                               0.24039   \n",
       "std                         1.12977                               4.15518   \n",
       "min                         0.00000                               0.00000   \n",
       "25%                         0.00000                               0.00000   \n",
       "50%                         1.00000                               0.00000   \n",
       "75%                         2.00000                               0.00000   \n",
       "max                        54.00000                              98.00000   \n",
       "\n",
       "       NumberOfDependents  \n",
       "count        146076.00000  \n",
       "mean              0.75722  \n",
       "std               1.11509  \n",
       "min               0.00000  \n",
       "25%               0.00000  \n",
       "50%               0.00000  \n",
       "75%               1.00000  \n",
       "max              20.00000  "
      ]
     },
     "execution_count": 7,
     "metadata": {},
     "output_type": "execute_result"
    }
   ],
   "source": [
    "df.describe() #数据描述"
   ]
  },
  {
   "cell_type": "markdown",
   "metadata": {},
   "source": [
    "从count值中看出MonthlyIncome(月收入)和NumberOfDependents（家属数目）有缺失值(因为这两列的count值小于150000)。\n",
    "SeriousDlqin2yrs的均值为0.06684，说明违约率是6.684%。\n",
    "age的最小值为0，存在异常值，银行不可能给18岁以下客户贷款。\n"
   ]
  },
  {
   "cell_type": "code",
   "execution_count": 8,
   "metadata": {},
   "outputs": [
    {
     "data": {
      "text/plain": [
       "SeriousDlqin2yrs                            0\n",
       "RevolvingUtilizationOfUnsecuredLines        0\n",
       "age                                         0\n",
       "NumberOfTime30-59DaysPastDueNotWorse        0\n",
       "DebtRatio                                   0\n",
       "MonthlyIncome                           29731\n",
       "NumberOfOpenCreditLinesAndLoans             0\n",
       "NumberOfTimes90DaysLate                     0\n",
       "NumberRealEstateLoansOrLines                0\n",
       "NumberOfTime60-89DaysPastDueNotWorse        0\n",
       "NumberOfDependents                       3924\n",
       "dtype: int64"
      ]
     },
     "execution_count": 8,
     "metadata": {},
     "output_type": "execute_result"
    }
   ],
   "source": [
    "df.isnull().sum() #缺失值统计"
   ]
  },
  {
   "cell_type": "code",
   "execution_count": 9,
   "metadata": {},
   "outputs": [
    {
     "data": {
      "text/html": [
       "<div>\n",
       "<style>\n",
       "    .dataframe thead tr:only-child th {\n",
       "        text-align: right;\n",
       "    }\n",
       "\n",
       "    .dataframe thead th {\n",
       "        text-align: left;\n",
       "    }\n",
       "\n",
       "    .dataframe tbody tr th {\n",
       "        vertical-align: top;\n",
       "    }\n",
       "</style>\n",
       "<table border=\"1\" class=\"dataframe\">\n",
       "  <thead>\n",
       "    <tr style=\"text-align: right;\">\n",
       "      <th></th>\n",
       "      <th>SeriousDlqin2yrs</th>\n",
       "      <th>RevolvingUtilizationOfUnsecuredLines</th>\n",
       "      <th>age</th>\n",
       "      <th>NumberOfTime30-59DaysPastDueNotWorse</th>\n",
       "      <th>DebtRatio</th>\n",
       "      <th>MonthlyIncome</th>\n",
       "      <th>NumberOfOpenCreditLinesAndLoans</th>\n",
       "      <th>NumberOfTimes90DaysLate</th>\n",
       "      <th>NumberRealEstateLoansOrLines</th>\n",
       "      <th>NumberOfTime60-89DaysPastDueNotWorse</th>\n",
       "      <th>NumberOfDependents</th>\n",
       "    </tr>\n",
       "  </thead>\n",
       "  <tbody>\n",
       "    <tr>\n",
       "      <th>65696</th>\n",
       "      <td>0</td>\n",
       "      <td>1.00000</td>\n",
       "      <td>0</td>\n",
       "      <td>1</td>\n",
       "      <td>0.43693</td>\n",
       "      <td>6000.00000</td>\n",
       "      <td>6</td>\n",
       "      <td>0</td>\n",
       "      <td>2</td>\n",
       "      <td>0</td>\n",
       "      <td>2.00000</td>\n",
       "    </tr>\n",
       "  </tbody>\n",
       "</table>\n",
       "</div>"
      ],
      "text/plain": [
       "       SeriousDlqin2yrs  RevolvingUtilizationOfUnsecuredLines  age  \\\n",
       "65696                 0                               1.00000    0   \n",
       "\n",
       "       NumberOfTime30-59DaysPastDueNotWorse  DebtRatio  MonthlyIncome  \\\n",
       "65696                                     1    0.43693     6000.00000   \n",
       "\n",
       "       NumberOfOpenCreditLinesAndLoans  NumberOfTimes90DaysLate  \\\n",
       "65696                                6                        0   \n",
       "\n",
       "       NumberRealEstateLoansOrLines  NumberOfTime60-89DaysPastDueNotWorse  \\\n",
       "65696                             2                                     0   \n",
       "\n",
       "       NumberOfDependents  \n",
       "65696             2.00000  "
      ]
     },
     "execution_count": 9,
     "metadata": {},
     "output_type": "execute_result"
    }
   ],
   "source": [
    "df[df['age']<18] # 找出年龄小于18的客户，只有一行"
   ]
  },
  {
   "cell_type": "code",
   "execution_count": 10,
   "metadata": {
    "collapsed": true
   },
   "outputs": [],
   "source": [
    "df=df[df.age>=18] #只保留年龄大于18的客户"
   ]
  },
  {
   "cell_type": "markdown",
   "metadata": {
    "collapsed": true
   },
   "source": [
    "查看违约率在每个自变量上的分布"
   ]
  },
  {
   "cell_type": "code",
   "execution_count": 11,
   "metadata": {
    "collapsed": true
   },
   "outputs": [],
   "source": [
    "df_tmp=df[['SeriousDlqin2yrs']]"
   ]
  },
  {
   "cell_type": "code",
   "execution_count": 12,
   "metadata": {
    "collapsed": true
   },
   "outputs": [],
   "source": [
    "df_tmp['R']=pd.cut(df['RevolvingUtilizationOfUnsecuredLines'],bins = [0,0.25,0.5,0.75,1,2,np.max(df['RevolvingUtilizationOfUnsecuredLines'])])"
   ]
  },
  {
   "cell_type": "code",
   "execution_count": 13,
   "metadata": {},
   "outputs": [
    {
     "data": {
      "text/html": [
       "<div>\n",
       "<style>\n",
       "    .dataframe thead tr:only-child th {\n",
       "        text-align: right;\n",
       "    }\n",
       "\n",
       "    .dataframe thead th {\n",
       "        text-align: left;\n",
       "    }\n",
       "\n",
       "    .dataframe tbody tr th {\n",
       "        vertical-align: top;\n",
       "    }\n",
       "</style>\n",
       "<table border=\"1\" class=\"dataframe\">\n",
       "  <thead>\n",
       "    <tr style=\"text-align: right;\">\n",
       "      <th></th>\n",
       "      <th>SeriousDlqin2yrs</th>\n",
       "      <th>R</th>\n",
       "    </tr>\n",
       "  </thead>\n",
       "  <tbody>\n",
       "    <tr>\n",
       "      <th>1</th>\n",
       "      <td>1</td>\n",
       "      <td>(0.75, 1.0]</td>\n",
       "    </tr>\n",
       "    <tr>\n",
       "      <th>2</th>\n",
       "      <td>0</td>\n",
       "      <td>(0.75, 1.0]</td>\n",
       "    </tr>\n",
       "    <tr>\n",
       "      <th>3</th>\n",
       "      <td>0</td>\n",
       "      <td>(0.5, 0.75]</td>\n",
       "    </tr>\n",
       "    <tr>\n",
       "      <th>4</th>\n",
       "      <td>0</td>\n",
       "      <td>(0.0, 0.25]</td>\n",
       "    </tr>\n",
       "    <tr>\n",
       "      <th>5</th>\n",
       "      <td>0</td>\n",
       "      <td>(0.75, 1.0]</td>\n",
       "    </tr>\n",
       "    <tr>\n",
       "      <th>6</th>\n",
       "      <td>0</td>\n",
       "      <td>(0.0, 0.25]</td>\n",
       "    </tr>\n",
       "    <tr>\n",
       "      <th>7</th>\n",
       "      <td>0</td>\n",
       "      <td>(0.25, 0.5]</td>\n",
       "    </tr>\n",
       "    <tr>\n",
       "      <th>...</th>\n",
       "      <td>...</td>\n",
       "      <td>...</td>\n",
       "    </tr>\n",
       "    <tr>\n",
       "      <th>149994</th>\n",
       "      <td>0</td>\n",
       "      <td>(0.75, 1.0]</td>\n",
       "    </tr>\n",
       "    <tr>\n",
       "      <th>149995</th>\n",
       "      <td>0</td>\n",
       "      <td>(0.25, 0.5]</td>\n",
       "    </tr>\n",
       "    <tr>\n",
       "      <th>149996</th>\n",
       "      <td>0</td>\n",
       "      <td>(0.0, 0.25]</td>\n",
       "    </tr>\n",
       "    <tr>\n",
       "      <th>149997</th>\n",
       "      <td>0</td>\n",
       "      <td>(0.25, 0.5]</td>\n",
       "    </tr>\n",
       "    <tr>\n",
       "      <th>149998</th>\n",
       "      <td>0</td>\n",
       "      <td>(0.0, 0.25]</td>\n",
       "    </tr>\n",
       "    <tr>\n",
       "      <th>149999</th>\n",
       "      <td>0</td>\n",
       "      <td>NaN</td>\n",
       "    </tr>\n",
       "    <tr>\n",
       "      <th>150000</th>\n",
       "      <td>0</td>\n",
       "      <td>(0.75, 1.0]</td>\n",
       "    </tr>\n",
       "  </tbody>\n",
       "</table>\n",
       "<p>149999 rows × 2 columns</p>\n",
       "</div>"
      ],
      "text/plain": [
       "        SeriousDlqin2yrs            R\n",
       "1                      1  (0.75, 1.0]\n",
       "2                      0  (0.75, 1.0]\n",
       "3                      0  (0.5, 0.75]\n",
       "4                      0  (0.0, 0.25]\n",
       "5                      0  (0.75, 1.0]\n",
       "6                      0  (0.0, 0.25]\n",
       "7                      0  (0.25, 0.5]\n",
       "...                  ...          ...\n",
       "149994                 0  (0.75, 1.0]\n",
       "149995                 0  (0.25, 0.5]\n",
       "149996                 0  (0.0, 0.25]\n",
       "149997                 0  (0.25, 0.5]\n",
       "149998                 0  (0.0, 0.25]\n",
       "149999                 0          NaN\n",
       "150000                 0  (0.75, 1.0]\n",
       "\n",
       "[149999 rows x 2 columns]"
      ]
     },
     "execution_count": 13,
     "metadata": {},
     "output_type": "execute_result"
    }
   ],
   "source": [
    "df_tmp"
   ]
  },
  {
   "cell_type": "code",
   "execution_count": 14,
   "metadata": {
    "collapsed": true
   },
   "outputs": [],
   "source": [
    "total_size=df_tmp.shape[0]"
   ]
  },
  {
   "cell_type": "code",
   "execution_count": 15,
   "metadata": {
    "collapsed": true
   },
   "outputs": [],
   "source": [
    "def rate(x):\n",
    "    total_size=df_tmp.shape[0] \n",
    "    return len(x)/total_size*100\n",
    "def rate2(x):\n",
    "    return sum(x)/len(x)*100"
   ]
  },
  {
   "cell_type": "code",
   "execution_count": 16,
   "metadata": {},
   "outputs": [
    {
     "name": "stdout",
     "output_type": "stream",
     "text": [
      "<pandas.core.groupby.SeriesGroupBy object at 0x0000029501D300B8>\n"
     ]
    },
    {
     "data": {
      "text/html": [
       "<div>\n",
       "<style>\n",
       "    .dataframe thead tr:only-child th {\n",
       "        text-align: right;\n",
       "    }\n",
       "\n",
       "    .dataframe thead th {\n",
       "        text-align: left;\n",
       "    }\n",
       "\n",
       "    .dataframe tbody tr th {\n",
       "        vertical-align: top;\n",
       "    }\n",
       "</style>\n",
       "<table border=\"1\" class=\"dataframe\">\n",
       "  <thead>\n",
       "    <tr style=\"text-align: right;\">\n",
       "      <th></th>\n",
       "      <th>count</th>\n",
       "      <th>rate</th>\n",
       "      <th>sum</th>\n",
       "      <th>rate2</th>\n",
       "    </tr>\n",
       "    <tr>\n",
       "      <th>R</th>\n",
       "      <th></th>\n",
       "      <th></th>\n",
       "      <th></th>\n",
       "      <th></th>\n",
       "    </tr>\n",
       "  </thead>\n",
       "  <tbody>\n",
       "    <tr>\n",
       "      <th>(0.0, 0.25]</th>\n",
       "      <td>76779</td>\n",
       "      <td>51.18634</td>\n",
       "      <td>1553</td>\n",
       "      <td>2.02269</td>\n",
       "    </tr>\n",
       "    <tr>\n",
       "      <th>(0.25, 0.5]</th>\n",
       "      <td>21055</td>\n",
       "      <td>14.03676</td>\n",
       "      <td>1114</td>\n",
       "      <td>5.29090</td>\n",
       "    </tr>\n",
       "    <tr>\n",
       "      <th>(0.5, 0.75]</th>\n",
       "      <td>13764</td>\n",
       "      <td>9.17606</td>\n",
       "      <td>1394</td>\n",
       "      <td>10.12787</td>\n",
       "    </tr>\n",
       "    <tr>\n",
       "      <th>(0.75, 1.0]</th>\n",
       "      <td>24202</td>\n",
       "      <td>16.13477</td>\n",
       "      <td>4408</td>\n",
       "      <td>18.21337</td>\n",
       "    </tr>\n",
       "    <tr>\n",
       "      <th>(1.0, 2.0]</th>\n",
       "      <td>2950</td>\n",
       "      <td>1.96668</td>\n",
       "      <td>1183</td>\n",
       "      <td>40.10169</td>\n",
       "    </tr>\n",
       "    <tr>\n",
       "      <th>(2.0, 50708.0]</th>\n",
       "      <td>371</td>\n",
       "      <td>0.24733</td>\n",
       "      <td>54</td>\n",
       "      <td>14.55526</td>\n",
       "    </tr>\n",
       "  </tbody>\n",
       "</table>\n",
       "</div>"
      ],
      "text/plain": [
       "                count     rate   sum    rate2\n",
       "R                                            \n",
       "(0.0, 0.25]     76779 51.18634  1553  2.02269\n",
       "(0.25, 0.5]     21055 14.03676  1114  5.29090\n",
       "(0.5, 0.75]     13764  9.17606  1394 10.12787\n",
       "(0.75, 1.0]     24202 16.13477  4408 18.21337\n",
       "(1.0, 2.0]       2950  1.96668  1183 40.10169\n",
       "(2.0, 50708.0]    371  0.24733    54 14.55526"
      ]
     },
     "execution_count": 16,
     "metadata": {},
     "output_type": "execute_result"
    }
   ],
   "source": [
    "grouped=df_tmp['SeriousDlqin2yrs'].groupby(df_tmp['R'])\n",
    "print(grouped)\n",
    "grouped.agg(['count',rate,'sum',rate2])"
   ]
  },
  {
   "cell_type": "code",
   "execution_count": 17,
   "metadata": {
    "collapsed": true
   },
   "outputs": [],
   "source": [
    "# 把上述生成频率表的过程写成函数，用于对每个自变量进行类似处理\n",
    "# 重新修改函数\n",
    "def get_frequency(df,col_x,col_y, cut_points, labels):\n",
    "    df_tmp=df[[col_y]]\n",
    "    df_tmp[col_x]=pd.cut(df[col_x],bins =cut_points,labels=labels)\n",
    "    grouped=df_tmp[col_y].groupby(df_tmp[col_x])\n",
    "    return grouped.agg(['count',rate,sum,rate2])"
   ]
  },
  {
   "cell_type": "code",
   "execution_count": 18,
   "metadata": {},
   "outputs": [
    {
     "data": {
      "text/html": [
       "<div>\n",
       "<style>\n",
       "    .dataframe thead tr:only-child th {\n",
       "        text-align: right;\n",
       "    }\n",
       "\n",
       "    .dataframe thead th {\n",
       "        text-align: left;\n",
       "    }\n",
       "\n",
       "    .dataframe tbody tr th {\n",
       "        vertical-align: top;\n",
       "    }\n",
       "</style>\n",
       "<table border=\"1\" class=\"dataframe\">\n",
       "  <thead>\n",
       "    <tr style=\"text-align: right;\">\n",
       "      <th></th>\n",
       "      <th>count</th>\n",
       "      <th>rate</th>\n",
       "      <th>sum</th>\n",
       "      <th>rate2</th>\n",
       "    </tr>\n",
       "    <tr>\n",
       "      <th>age</th>\n",
       "      <th></th>\n",
       "      <th></th>\n",
       "      <th></th>\n",
       "      <th></th>\n",
       "    </tr>\n",
       "  </thead>\n",
       "  <tbody>\n",
       "    <tr>\n",
       "      <th>26-35</th>\n",
       "      <td>18458</td>\n",
       "      <td>12.30542</td>\n",
       "      <td>2053</td>\n",
       "      <td>11.12255</td>\n",
       "    </tr>\n",
       "    <tr>\n",
       "      <th>36-45</th>\n",
       "      <td>29819</td>\n",
       "      <td>19.87947</td>\n",
       "      <td>2628</td>\n",
       "      <td>8.81317</td>\n",
       "    </tr>\n",
       "    <tr>\n",
       "      <th>46-55</th>\n",
       "      <td>36690</td>\n",
       "      <td>24.46016</td>\n",
       "      <td>2786</td>\n",
       "      <td>7.59335</td>\n",
       "    </tr>\n",
       "    <tr>\n",
       "      <th>56-65</th>\n",
       "      <td>33406</td>\n",
       "      <td>22.27082</td>\n",
       "      <td>1531</td>\n",
       "      <td>4.58301</td>\n",
       "    </tr>\n",
       "    <tr>\n",
       "      <th>above 65</th>\n",
       "      <td>28599</td>\n",
       "      <td>19.06613</td>\n",
       "      <td>690</td>\n",
       "      <td>2.41267</td>\n",
       "    </tr>\n",
       "    <tr>\n",
       "      <th>below 25</th>\n",
       "      <td>3027</td>\n",
       "      <td>2.01801</td>\n",
       "      <td>338</td>\n",
       "      <td>11.16617</td>\n",
       "    </tr>\n",
       "  </tbody>\n",
       "</table>\n",
       "</div>"
      ],
      "text/plain": [
       "          count     rate   sum    rate2\n",
       "age                                    \n",
       "26-35     18458 12.30542  2053 11.12255\n",
       "36-45     29819 19.87947  2628  8.81317\n",
       "46-55     36690 24.46016  2786  7.59335\n",
       "56-65     33406 22.27082  1531  4.58301\n",
       "above 65  28599 19.06613   690  2.41267\n",
       "below 25   3027  2.01801   338 11.16617"
      ]
     },
     "execution_count": 18,
     "metadata": {},
     "output_type": "execute_result"
    }
   ],
   "source": [
    "cut_points=[min(df['age'])-1,25,35,45,55,65,max(df['age'])+1]\n",
    "labels=['below 25', '26-35', '36-45','46-55','56-65','above 65']\n",
    "feq_age=get_frequency(df,'age','SeriousDlqin2yrs', cut_points, labels)\n",
    "feq_age"
   ]
  },
  {
   "cell_type": "markdown",
   "metadata": {},
   "source": [
    "小于25岁的人群和26-35岁的人群，违约率都超过10%。随着年龄增加，违约率在下降。"
   ]
  },
  {
   "cell_type": "code",
   "execution_count": 19,
   "metadata": {},
   "outputs": [
    {
     "data": {
      "text/html": [
       "<div>\n",
       "<style>\n",
       "    .dataframe thead tr:only-child th {\n",
       "        text-align: right;\n",
       "    }\n",
       "\n",
       "    .dataframe thead th {\n",
       "        text-align: left;\n",
       "    }\n",
       "\n",
       "    .dataframe tbody tr th {\n",
       "        vertical-align: top;\n",
       "    }\n",
       "</style>\n",
       "<table border=\"1\" class=\"dataframe\">\n",
       "  <thead>\n",
       "    <tr style=\"text-align: right;\">\n",
       "      <th></th>\n",
       "      <th>count</th>\n",
       "      <th>rate</th>\n",
       "      <th>sum</th>\n",
       "      <th>rate2</th>\n",
       "    </tr>\n",
       "    <tr>\n",
       "      <th>DebtRatio</th>\n",
       "      <th></th>\n",
       "      <th></th>\n",
       "      <th></th>\n",
       "      <th></th>\n",
       "    </tr>\n",
       "  </thead>\n",
       "  <tbody>\n",
       "    <tr>\n",
       "      <th>0.25-0.5</th>\n",
       "      <td>41346</td>\n",
       "      <td>27.56418</td>\n",
       "      <td>2529</td>\n",
       "      <td>6.11667</td>\n",
       "    </tr>\n",
       "    <tr>\n",
       "      <th>0.5-0.75</th>\n",
       "      <td>15728</td>\n",
       "      <td>10.48540</td>\n",
       "      <td>1484</td>\n",
       "      <td>9.43540</td>\n",
       "    </tr>\n",
       "    <tr>\n",
       "      <th>0.75-1.0</th>\n",
       "      <td>5427</td>\n",
       "      <td>3.61802</td>\n",
       "      <td>596</td>\n",
       "      <td>10.98213</td>\n",
       "    </tr>\n",
       "    <tr>\n",
       "      <th>1.0-2.0</th>\n",
       "      <td>4092</td>\n",
       "      <td>2.72802</td>\n",
       "      <td>539</td>\n",
       "      <td>13.17204</td>\n",
       "    </tr>\n",
       "    <tr>\n",
       "      <th>above 2</th>\n",
       "      <td>31045</td>\n",
       "      <td>20.69680</td>\n",
       "      <td>1752</td>\n",
       "      <td>5.64342</td>\n",
       "    </tr>\n",
       "    <tr>\n",
       "      <th>below 0.25</th>\n",
       "      <td>52361</td>\n",
       "      <td>34.90757</td>\n",
       "      <td>3126</td>\n",
       "      <td>5.97009</td>\n",
       "    </tr>\n",
       "  </tbody>\n",
       "</table>\n",
       "</div>"
      ],
      "text/plain": [
       "            count     rate   sum    rate2\n",
       "DebtRatio                                \n",
       "0.25-0.5    41346 27.56418  2529  6.11667\n",
       "0.5-0.75    15728 10.48540  1484  9.43540\n",
       "0.75-1.0     5427  3.61802   596 10.98213\n",
       "1.0-2.0      4092  2.72802   539 13.17204\n",
       "above 2     31045 20.69680  1752  5.64342\n",
       "below 0.25  52361 34.90757  3126  5.97009"
      ]
     },
     "execution_count": 19,
     "metadata": {},
     "output_type": "execute_result"
    }
   ],
   "source": [
    "cut_points = [min(df['DebtRatio'])-1,0.25,0.5,0.75,1,2,max(df['DebtRatio'])+1]\n",
    "labels = [\"below 0.25\",\"0.25-0.5\",\"0.5-0.75\",\"0.75-1.0\",\"1.0-2.0\",\"above 2\"]\n",
    "feq_ratio=get_frequency(df,'DebtRatio','SeriousDlqin2yrs', cut_points, labels)\n",
    "feq_ratio\n",
    "#随着负债率的提高，区间的违约率也不断增加，负债率在1-2之间的人群违约率最高。但负债率大于2的时候，违约率又下降了。"
   ]
  },
  {
   "cell_type": "markdown",
   "metadata": {},
   "source": [
    "随着负债率的提高，区间的违约率也不断增加，负债率在1-2之间的人群违约率最高。但负债率大于2的时候，违约率又下降了。"
   ]
  },
  {
   "cell_type": "code",
   "execution_count": 20,
   "metadata": {},
   "outputs": [
    {
     "data": {
      "text/html": [
       "<div>\n",
       "<style>\n",
       "    .dataframe thead tr:only-child th {\n",
       "        text-align: right;\n",
       "    }\n",
       "\n",
       "    .dataframe thead th {\n",
       "        text-align: left;\n",
       "    }\n",
       "\n",
       "    .dataframe tbody tr th {\n",
       "        vertical-align: top;\n",
       "    }\n",
       "</style>\n",
       "<table border=\"1\" class=\"dataframe\">\n",
       "  <thead>\n",
       "    <tr style=\"text-align: right;\">\n",
       "      <th></th>\n",
       "      <th>count</th>\n",
       "      <th>rate</th>\n",
       "      <th>sum</th>\n",
       "      <th>rate2</th>\n",
       "    </tr>\n",
       "    <tr>\n",
       "      <th>NumberOfOpenCreditLinesAndLoans</th>\n",
       "      <th></th>\n",
       "      <th></th>\n",
       "      <th></th>\n",
       "      <th></th>\n",
       "    </tr>\n",
       "  </thead>\n",
       "  <tbody>\n",
       "    <tr>\n",
       "      <th>11-15</th>\n",
       "      <td>29184</td>\n",
       "      <td>19.45613</td>\n",
       "      <td>1804</td>\n",
       "      <td>6.18147</td>\n",
       "    </tr>\n",
       "    <tr>\n",
       "      <th>16-20</th>\n",
       "      <td>9846</td>\n",
       "      <td>6.56404</td>\n",
       "      <td>676</td>\n",
       "      <td>6.86573</td>\n",
       "    </tr>\n",
       "    <tr>\n",
       "      <th>21-25</th>\n",
       "      <td>2841</td>\n",
       "      <td>1.89401</td>\n",
       "      <td>191</td>\n",
       "      <td>6.72298</td>\n",
       "    </tr>\n",
       "    <tr>\n",
       "      <th>26-30</th>\n",
       "      <td>785</td>\n",
       "      <td>0.52334</td>\n",
       "      <td>62</td>\n",
       "      <td>7.89809</td>\n",
       "    </tr>\n",
       "    <tr>\n",
       "      <th>6-10</th>\n",
       "      <td>60399</td>\n",
       "      <td>40.26627</td>\n",
       "      <td>3345</td>\n",
       "      <td>5.53817</td>\n",
       "    </tr>\n",
       "    <tr>\n",
       "      <th>above 30</th>\n",
       "      <td>354</td>\n",
       "      <td>0.23600</td>\n",
       "      <td>26</td>\n",
       "      <td>7.34463</td>\n",
       "    </tr>\n",
       "    <tr>\n",
       "      <th>below 5</th>\n",
       "      <td>46590</td>\n",
       "      <td>31.06021</td>\n",
       "      <td>3922</td>\n",
       "      <td>8.41812</td>\n",
       "    </tr>\n",
       "  </tbody>\n",
       "</table>\n",
       "</div>"
      ],
      "text/plain": [
       "                                 count     rate   sum   rate2\n",
       "NumberOfOpenCreditLinesAndLoans                              \n",
       "11-15                            29184 19.45613  1804 6.18147\n",
       "16-20                             9846  6.56404   676 6.86573\n",
       "21-25                             2841  1.89401   191 6.72298\n",
       "26-30                              785  0.52334    62 7.89809\n",
       "6-10                             60399 40.26627  3345 5.53817\n",
       "above 30                           354  0.23600    26 7.34463\n",
       "below 5                          46590 31.06021  3922 8.41812"
      ]
     },
     "execution_count": 20,
     "metadata": {},
     "output_type": "execute_result"
    }
   ],
   "source": [
    "cut_points=[-1,5,10,15,20,25,30,max(df['NumberOfOpenCreditLinesAndLoans'])+1]\n",
    "labels=['below 5', '6-10', '11-15','16-20','21-25','26-30','above 30']\n",
    "feq_OpenCredit=get_frequency(df,'NumberOfOpenCreditLinesAndLoans','SeriousDlqin2yrs', cut_points, labels)\n",
    "feq_OpenCredit"
   ]
  },
  {
   "cell_type": "markdown",
   "metadata": {},
   "source": [
    "在开放性贷款变量上，违约人数的分布比较均匀。近70%的借贷者有五笔以上贷款"
   ]
  },
  {
   "cell_type": "code",
   "execution_count": 21,
   "metadata": {},
   "outputs": [
    {
     "data": {
      "text/html": [
       "<div>\n",
       "<style>\n",
       "    .dataframe thead tr:only-child th {\n",
       "        text-align: right;\n",
       "    }\n",
       "\n",
       "    .dataframe thead th {\n",
       "        text-align: left;\n",
       "    }\n",
       "\n",
       "    .dataframe tbody tr th {\n",
       "        vertical-align: top;\n",
       "    }\n",
       "</style>\n",
       "<table border=\"1\" class=\"dataframe\">\n",
       "  <thead>\n",
       "    <tr style=\"text-align: right;\">\n",
       "      <th></th>\n",
       "      <th>count</th>\n",
       "      <th>rate</th>\n",
       "      <th>sum</th>\n",
       "      <th>rate2</th>\n",
       "    </tr>\n",
       "    <tr>\n",
       "      <th>NumberRealEstateLoansOrLines</th>\n",
       "      <th></th>\n",
       "      <th></th>\n",
       "      <th></th>\n",
       "      <th></th>\n",
       "    </tr>\n",
       "  </thead>\n",
       "  <tbody>\n",
       "    <tr>\n",
       "      <th>11-15</th>\n",
       "      <td>70</td>\n",
       "      <td>0.04667</td>\n",
       "      <td>16</td>\n",
       "      <td>22.85714</td>\n",
       "    </tr>\n",
       "    <tr>\n",
       "      <th>16-20</th>\n",
       "      <td>14</td>\n",
       "      <td>0.00933</td>\n",
       "      <td>3</td>\n",
       "      <td>21.42857</td>\n",
       "    </tr>\n",
       "    <tr>\n",
       "      <th>6-10</th>\n",
       "      <td>699</td>\n",
       "      <td>0.46600</td>\n",
       "      <td>121</td>\n",
       "      <td>17.31044</td>\n",
       "    </tr>\n",
       "    <tr>\n",
       "      <th>above 20</th>\n",
       "      <td>10</td>\n",
       "      <td>0.00667</td>\n",
       "      <td>2</td>\n",
       "      <td>20.00000</td>\n",
       "    </tr>\n",
       "    <tr>\n",
       "      <th>below 5</th>\n",
       "      <td>149206</td>\n",
       "      <td>99.47133</td>\n",
       "      <td>9884</td>\n",
       "      <td>6.62440</td>\n",
       "    </tr>\n",
       "  </tbody>\n",
       "</table>\n",
       "</div>"
      ],
      "text/plain": [
       "                               count     rate   sum    rate2\n",
       "NumberRealEstateLoansOrLines                                \n",
       "11-15                             70  0.04667    16 22.85714\n",
       "16-20                             14  0.00933     3 21.42857\n",
       "6-10                             699  0.46600   121 17.31044\n",
       "above 20                          10  0.00667     2 20.00000\n",
       "below 5                       149206 99.47133  9884  6.62440"
      ]
     },
     "execution_count": 21,
     "metadata": {},
     "output_type": "execute_result"
    }
   ],
   "source": [
    "cut_points=[-1,5,10,15,20,max(df['NumberRealEstateLoansOrLines'])+1]\n",
    "labels=['below 5', '6-10', '11-15','16-20','above 20']\n",
    "feq_RealEstate=get_frequency(df,'NumberRealEstateLoansOrLines','SeriousDlqin2yrs', cut_points, labels)\n",
    "feq_RealEstate"
   ]
  },
  {
   "cell_type": "markdown",
   "metadata": {},
   "source": [
    "99.47%借贷者的不动产和抵押贷款小于5笔，5笔以上的人群违约率明显增加。"
   ]
  },
  {
   "cell_type": "code",
   "execution_count": 22,
   "metadata": {},
   "outputs": [
    {
     "data": {
      "text/html": [
       "<div>\n",
       "<style>\n",
       "    .dataframe thead tr:only-child th {\n",
       "        text-align: right;\n",
       "    }\n",
       "\n",
       "    .dataframe thead th {\n",
       "        text-align: left;\n",
       "    }\n",
       "\n",
       "    .dataframe tbody tr th {\n",
       "        vertical-align: top;\n",
       "    }\n",
       "</style>\n",
       "<table border=\"1\" class=\"dataframe\">\n",
       "  <thead>\n",
       "    <tr style=\"text-align: right;\">\n",
       "      <th></th>\n",
       "      <th>count</th>\n",
       "      <th>rate</th>\n",
       "      <th>sum</th>\n",
       "      <th>rate2</th>\n",
       "    </tr>\n",
       "    <tr>\n",
       "      <th>NumberOfTime30-59DaysPastDueNotWorse</th>\n",
       "      <th></th>\n",
       "      <th></th>\n",
       "      <th></th>\n",
       "      <th></th>\n",
       "    </tr>\n",
       "  </thead>\n",
       "  <tbody>\n",
       "    <tr>\n",
       "      <th>0</th>\n",
       "      <td>142050</td>\n",
       "      <td>94.70063</td>\n",
       "      <td>7450</td>\n",
       "      <td>5.24463</td>\n",
       "    </tr>\n",
       "    <tr>\n",
       "      <th>1</th>\n",
       "      <td>4598</td>\n",
       "      <td>3.06535</td>\n",
       "      <td>1219</td>\n",
       "      <td>26.51153</td>\n",
       "    </tr>\n",
       "    <tr>\n",
       "      <th>2</th>\n",
       "      <td>1754</td>\n",
       "      <td>1.16934</td>\n",
       "      <td>618</td>\n",
       "      <td>35.23375</td>\n",
       "    </tr>\n",
       "    <tr>\n",
       "      <th>3</th>\n",
       "      <td>747</td>\n",
       "      <td>0.49800</td>\n",
       "      <td>318</td>\n",
       "      <td>42.57028</td>\n",
       "    </tr>\n",
       "    <tr>\n",
       "      <th>4</th>\n",
       "      <td>342</td>\n",
       "      <td>0.22800</td>\n",
       "      <td>154</td>\n",
       "      <td>45.02924</td>\n",
       "    </tr>\n",
       "    <tr>\n",
       "      <th>5</th>\n",
       "      <td>140</td>\n",
       "      <td>0.09333</td>\n",
       "      <td>74</td>\n",
       "      <td>52.85714</td>\n",
       "    </tr>\n",
       "    <tr>\n",
       "      <th>6</th>\n",
       "      <td>54</td>\n",
       "      <td>0.03600</td>\n",
       "      <td>28</td>\n",
       "      <td>51.85185</td>\n",
       "    </tr>\n",
       "    <tr>\n",
       "      <th>7 and above</th>\n",
       "      <td>314</td>\n",
       "      <td>0.20933</td>\n",
       "      <td>165</td>\n",
       "      <td>52.54777</td>\n",
       "    </tr>\n",
       "  </tbody>\n",
       "</table>\n",
       "</div>"
      ],
      "text/plain": [
       "                                       count     rate   sum    rate2\n",
       "NumberOfTime30-59DaysPastDueNotWorse                                \n",
       "0                                     142050 94.70063  7450  5.24463\n",
       "1                                       4598  3.06535  1219 26.51153\n",
       "2                                       1754  1.16934   618 35.23375\n",
       "3                                        747  0.49800   318 42.57028\n",
       "4                                        342  0.22800   154 45.02924\n",
       "5                                        140  0.09333    74 52.85714\n",
       "6                                         54  0.03600    28 51.85185\n",
       "7 and above                              314  0.20933   165 52.54777"
      ]
     },
     "execution_count": 22,
     "metadata": {},
     "output_type": "execute_result"
    }
   ],
   "source": [
    "cut_points=[-1,1,2,3,4,5,6,7,max(df['NumberOfTime30-59DaysPastDueNotWorse'])+1]\n",
    "labels=['0', '1','2','3','4','5','6','7 and above']\n",
    "feq_30days=get_frequency(df,'NumberOfTime30-59DaysPastDueNotWorse','SeriousDlqin2yrs', cut_points, labels)\n",
    "feq_30days"
   ]
  },
  {
   "cell_type": "markdown",
   "metadata": {},
   "source": [
    "没有发生过30-59天逾期的借贷者，违约率只有4%。随着逾期次数的增加，违约率不断升高。"
   ]
  },
  {
   "cell_type": "code",
   "execution_count": 23,
   "metadata": {},
   "outputs": [
    {
     "data": {
      "text/html": [
       "<div>\n",
       "<style>\n",
       "    .dataframe thead tr:only-child th {\n",
       "        text-align: right;\n",
       "    }\n",
       "\n",
       "    .dataframe thead th {\n",
       "        text-align: left;\n",
       "    }\n",
       "\n",
       "    .dataframe tbody tr th {\n",
       "        vertical-align: top;\n",
       "    }\n",
       "</style>\n",
       "<table border=\"1\" class=\"dataframe\">\n",
       "  <thead>\n",
       "    <tr style=\"text-align: right;\">\n",
       "      <th></th>\n",
       "      <th>count</th>\n",
       "      <th>rate</th>\n",
       "      <th>sum</th>\n",
       "      <th>rate2</th>\n",
       "    </tr>\n",
       "    <tr>\n",
       "      <th>NumberOfTime60-89DaysPastDueNotWorse</th>\n",
       "      <th></th>\n",
       "      <th></th>\n",
       "      <th></th>\n",
       "      <th></th>\n",
       "    </tr>\n",
       "  </thead>\n",
       "  <tbody>\n",
       "    <tr>\n",
       "      <th>0</th>\n",
       "      <td>148126</td>\n",
       "      <td>98.75133</td>\n",
       "      <td>9033</td>\n",
       "      <td>6.09819</td>\n",
       "    </tr>\n",
       "    <tr>\n",
       "      <th>1</th>\n",
       "      <td>1118</td>\n",
       "      <td>0.74534</td>\n",
       "      <td>561</td>\n",
       "      <td>50.17889</td>\n",
       "    </tr>\n",
       "    <tr>\n",
       "      <th>2</th>\n",
       "      <td>318</td>\n",
       "      <td>0.21200</td>\n",
       "      <td>180</td>\n",
       "      <td>56.60377</td>\n",
       "    </tr>\n",
       "    <tr>\n",
       "      <th>3</th>\n",
       "      <td>105</td>\n",
       "      <td>0.07000</td>\n",
       "      <td>65</td>\n",
       "      <td>61.90476</td>\n",
       "    </tr>\n",
       "    <tr>\n",
       "      <th>4</th>\n",
       "      <td>34</td>\n",
       "      <td>0.02267</td>\n",
       "      <td>21</td>\n",
       "      <td>61.76471</td>\n",
       "    </tr>\n",
       "    <tr>\n",
       "      <th>5</th>\n",
       "      <td>16</td>\n",
       "      <td>0.01067</td>\n",
       "      <td>12</td>\n",
       "      <td>75.00000</td>\n",
       "    </tr>\n",
       "    <tr>\n",
       "      <th>6</th>\n",
       "      <td>9</td>\n",
       "      <td>0.00600</td>\n",
       "      <td>5</td>\n",
       "      <td>55.55556</td>\n",
       "    </tr>\n",
       "    <tr>\n",
       "      <th>7 and above</th>\n",
       "      <td>273</td>\n",
       "      <td>0.18200</td>\n",
       "      <td>149</td>\n",
       "      <td>54.57875</td>\n",
       "    </tr>\n",
       "  </tbody>\n",
       "</table>\n",
       "</div>"
      ],
      "text/plain": [
       "                                       count     rate   sum    rate2\n",
       "NumberOfTime60-89DaysPastDueNotWorse                                \n",
       "0                                     148126 98.75133  9033  6.09819\n",
       "1                                       1118  0.74534   561 50.17889\n",
       "2                                        318  0.21200   180 56.60377\n",
       "3                                        105  0.07000    65 61.90476\n",
       "4                                         34  0.02267    21 61.76471\n",
       "5                                         16  0.01067    12 75.00000\n",
       "6                                          9  0.00600     5 55.55556\n",
       "7 and above                              273  0.18200   149 54.57875"
      ]
     },
     "execution_count": 23,
     "metadata": {},
     "output_type": "execute_result"
    }
   ],
   "source": [
    "cut_points=[-1,1,2,3,4,5,6,7,max(df['NumberOfTime60-89DaysPastDueNotWorse'])+1]\n",
    "labels=['0', '1','2','3','4','5','6','7 and above ']\n",
    "feq_60days=get_frequency(df,'NumberOfTime60-89DaysPastDueNotWorse','SeriousDlqin2yrs', cut_points, labels)\n",
    "feq_60days"
   ]
  },
  {
   "cell_type": "markdown",
   "metadata": {},
   "source": [
    "60-89天逾期也类似"
   ]
  },
  {
   "cell_type": "code",
   "execution_count": 24,
   "metadata": {},
   "outputs": [
    {
     "data": {
      "text/html": [
       "<div>\n",
       "<style>\n",
       "    .dataframe thead tr:only-child th {\n",
       "        text-align: right;\n",
       "    }\n",
       "\n",
       "    .dataframe thead th {\n",
       "        text-align: left;\n",
       "    }\n",
       "\n",
       "    .dataframe tbody tr th {\n",
       "        vertical-align: top;\n",
       "    }\n",
       "</style>\n",
       "<table border=\"1\" class=\"dataframe\">\n",
       "  <thead>\n",
       "    <tr style=\"text-align: right;\">\n",
       "      <th></th>\n",
       "      <th>count</th>\n",
       "      <th>rate</th>\n",
       "      <th>sum</th>\n",
       "      <th>rate2</th>\n",
       "    </tr>\n",
       "    <tr>\n",
       "      <th>NumberOfTimes90DaysLate</th>\n",
       "      <th></th>\n",
       "      <th></th>\n",
       "      <th></th>\n",
       "      <th></th>\n",
       "    </tr>\n",
       "  </thead>\n",
       "  <tbody>\n",
       "    <tr>\n",
       "      <th>0</th>\n",
       "      <td>146904</td>\n",
       "      <td>97.93665</td>\n",
       "      <td>8319</td>\n",
       "      <td>5.66288</td>\n",
       "    </tr>\n",
       "    <tr>\n",
       "      <th>1</th>\n",
       "      <td>1555</td>\n",
       "      <td>1.03667</td>\n",
       "      <td>776</td>\n",
       "      <td>49.90354</td>\n",
       "    </tr>\n",
       "    <tr>\n",
       "      <th>2</th>\n",
       "      <td>667</td>\n",
       "      <td>0.44467</td>\n",
       "      <td>385</td>\n",
       "      <td>57.72114</td>\n",
       "    </tr>\n",
       "    <tr>\n",
       "      <th>3</th>\n",
       "      <td>291</td>\n",
       "      <td>0.19400</td>\n",
       "      <td>195</td>\n",
       "      <td>67.01031</td>\n",
       "    </tr>\n",
       "    <tr>\n",
       "      <th>4</th>\n",
       "      <td>131</td>\n",
       "      <td>0.08733</td>\n",
       "      <td>83</td>\n",
       "      <td>63.35878</td>\n",
       "    </tr>\n",
       "    <tr>\n",
       "      <th>5</th>\n",
       "      <td>80</td>\n",
       "      <td>0.05333</td>\n",
       "      <td>48</td>\n",
       "      <td>60.00000</td>\n",
       "    </tr>\n",
       "    <tr>\n",
       "      <th>6</th>\n",
       "      <td>38</td>\n",
       "      <td>0.02533</td>\n",
       "      <td>31</td>\n",
       "      <td>81.57895</td>\n",
       "    </tr>\n",
       "    <tr>\n",
       "      <th>7and above</th>\n",
       "      <td>333</td>\n",
       "      <td>0.22200</td>\n",
       "      <td>189</td>\n",
       "      <td>56.75676</td>\n",
       "    </tr>\n",
       "  </tbody>\n",
       "</table>\n",
       "</div>"
      ],
      "text/plain": [
       "                          count     rate   sum    rate2\n",
       "NumberOfTimes90DaysLate                                \n",
       "0                        146904 97.93665  8319  5.66288\n",
       "1                          1555  1.03667   776 49.90354\n",
       "2                           667  0.44467   385 57.72114\n",
       "3                           291  0.19400   195 67.01031\n",
       "4                           131  0.08733    83 63.35878\n",
       "5                            80  0.05333    48 60.00000\n",
       "6                            38  0.02533    31 81.57895\n",
       "7and above                  333  0.22200   189 56.75676"
      ]
     },
     "execution_count": 24,
     "metadata": {},
     "output_type": "execute_result"
    }
   ],
   "source": [
    "cut_points=[-1,1,2,3,4,5,6,7,max(df['NumberOfTimes90DaysLate'])+1]\n",
    "labels=['0', '1','2','3','4','5','6','7and above']\n",
    "feq_90days=get_frequency(df,'NumberOfTimes90DaysLate','SeriousDlqin2yrs', cut_points, labels)\n",
    "feq_90days"
   ]
  },
  {
   "cell_type": "markdown",
   "metadata": {},
   "source": [
    "60-89天逾期数和90天逾期数这两个变量上的违约率也有同样趋势，因此是否发生过违约，是判断今后是否会违约的重要变量。"
   ]
  },
  {
   "cell_type": "code",
   "execution_count": 25,
   "metadata": {},
   "outputs": [
    {
     "data": {
      "text/html": [
       "<div>\n",
       "<style>\n",
       "    .dataframe thead tr:only-child th {\n",
       "        text-align: right;\n",
       "    }\n",
       "\n",
       "    .dataframe thead th {\n",
       "        text-align: left;\n",
       "    }\n",
       "\n",
       "    .dataframe tbody tr th {\n",
       "        vertical-align: top;\n",
       "    }\n",
       "</style>\n",
       "<table border=\"1\" class=\"dataframe\">\n",
       "  <thead>\n",
       "    <tr style=\"text-align: right;\">\n",
       "      <th></th>\n",
       "      <th>count</th>\n",
       "      <th>rate</th>\n",
       "      <th>sum</th>\n",
       "      <th>rate2</th>\n",
       "    </tr>\n",
       "    <tr>\n",
       "      <th>MonthlyIncome</th>\n",
       "      <th></th>\n",
       "      <th></th>\n",
       "      <th></th>\n",
       "      <th></th>\n",
       "    </tr>\n",
       "  </thead>\n",
       "  <tbody>\n",
       "    <tr>\n",
       "      <th>1000-15000</th>\n",
       "      <td>13035</td>\n",
       "      <td>8.69006</td>\n",
       "      <td>547</td>\n",
       "      <td>4.19639</td>\n",
       "    </tr>\n",
       "    <tr>\n",
       "      <th>5000-10000</th>\n",
       "      <td>46090</td>\n",
       "      <td>30.72687</td>\n",
       "      <td>2752</td>\n",
       "      <td>5.97093</td>\n",
       "    </tr>\n",
       "    <tr>\n",
       "      <th>above 15000</th>\n",
       "      <td>5284</td>\n",
       "      <td>3.52269</td>\n",
       "      <td>245</td>\n",
       "      <td>4.63664</td>\n",
       "    </tr>\n",
       "    <tr>\n",
       "      <th>below 5000</th>\n",
       "      <td>55859</td>\n",
       "      <td>37.23958</td>\n",
       "      <td>4813</td>\n",
       "      <td>8.61634</td>\n",
       "    </tr>\n",
       "  </tbody>\n",
       "</table>\n",
       "</div>"
      ],
      "text/plain": [
       "               count     rate   sum   rate2\n",
       "MonthlyIncome                              \n",
       "1000-15000     13035  8.69006   547 4.19639\n",
       "5000-10000     46090 30.72687  2752 5.97093\n",
       "above 15000     5284  3.52269   245 4.63664\n",
       "below 5000     55859 37.23958  4813 8.61634"
      ]
     },
     "execution_count": 25,
     "metadata": {},
     "output_type": "execute_result"
    }
   ],
   "source": [
    "cut_points=[-1,5000,10000,15000,max(df['MonthlyIncome'])+1]\n",
    "labels=['below 5000', '5000-10000','1000-15000','above 15000']\n",
    "feq_Income=get_frequency(df,'MonthlyIncome','SeriousDlqin2yrs', cut_points, labels)\n",
    "feq_Income"
   ]
  },
  {
   "cell_type": "markdown",
   "metadata": {},
   "source": [
    "看起来是收入越高，违约率越低。但是MonthlyIncome列数据缺失较多，只能作为参考。"
   ]
  },
  {
   "cell_type": "code",
   "execution_count": 26,
   "metadata": {},
   "outputs": [
    {
     "data": {
      "text/html": [
       "<div>\n",
       "<style>\n",
       "    .dataframe thead tr:only-child th {\n",
       "        text-align: right;\n",
       "    }\n",
       "\n",
       "    .dataframe thead th {\n",
       "        text-align: left;\n",
       "    }\n",
       "\n",
       "    .dataframe tbody tr th {\n",
       "        vertical-align: top;\n",
       "    }\n",
       "</style>\n",
       "<table border=\"1\" class=\"dataframe\">\n",
       "  <thead>\n",
       "    <tr style=\"text-align: right;\">\n",
       "      <th></th>\n",
       "      <th>count</th>\n",
       "      <th>rate</th>\n",
       "      <th>sum</th>\n",
       "      <th>rate2</th>\n",
       "    </tr>\n",
       "    <tr>\n",
       "      <th>NumberOfDependents</th>\n",
       "      <th></th>\n",
       "      <th></th>\n",
       "      <th></th>\n",
       "      <th></th>\n",
       "    </tr>\n",
       "  </thead>\n",
       "  <tbody>\n",
       "    <tr>\n",
       "      <th>0</th>\n",
       "      <td>113218</td>\n",
       "      <td>75.47917</td>\n",
       "      <td>7030</td>\n",
       "      <td>6.20926</td>\n",
       "    </tr>\n",
       "    <tr>\n",
       "      <th>1</th>\n",
       "      <td>19521</td>\n",
       "      <td>13.01409</td>\n",
       "      <td>1584</td>\n",
       "      <td>8.11434</td>\n",
       "    </tr>\n",
       "    <tr>\n",
       "      <th>2</th>\n",
       "      <td>9483</td>\n",
       "      <td>6.32204</td>\n",
       "      <td>837</td>\n",
       "      <td>8.82632</td>\n",
       "    </tr>\n",
       "    <tr>\n",
       "      <th>3</th>\n",
       "      <td>2862</td>\n",
       "      <td>1.90801</td>\n",
       "      <td>297</td>\n",
       "      <td>10.37736</td>\n",
       "    </tr>\n",
       "    <tr>\n",
       "      <th>4</th>\n",
       "      <td>746</td>\n",
       "      <td>0.49734</td>\n",
       "      <td>68</td>\n",
       "      <td>9.11528</td>\n",
       "    </tr>\n",
       "    <tr>\n",
       "      <th>5 and more</th>\n",
       "      <td>245</td>\n",
       "      <td>0.16333</td>\n",
       "      <td>31</td>\n",
       "      <td>12.65306</td>\n",
       "    </tr>\n",
       "  </tbody>\n",
       "</table>\n",
       "</div>"
      ],
      "text/plain": [
       "                     count     rate   sum    rate2\n",
       "NumberOfDependents                                \n",
       "0                   113218 75.47917  7030  6.20926\n",
       "1                    19521 13.01409  1584  8.11434\n",
       "2                     9483  6.32204   837  8.82632\n",
       "3                     2862  1.90801   297 10.37736\n",
       "4                      746  0.49734    68  9.11528\n",
       "5 and more             245  0.16333    31 12.65306"
      ]
     },
     "execution_count": 26,
     "metadata": {},
     "output_type": "execute_result"
    }
   ],
   "source": [
    "cut_points = [-1,1,2,3,4,5,max(df['NumberOfDependents'])+1]\n",
    "labels = [\"0\",\"1\",\"2\",\"3\",\"4\",\"5 and more\"]\n",
    "feq_dependent=get_frequency(df,'NumberOfDependents','SeriousDlqin2yrs', cut_points, labels)\n",
    "feq_dependent"
   ]
  },
  {
   "cell_type": "markdown",
   "metadata": {},
   "source": [
    "拥有不同家属数量的人群，其违约率没有较大区别。"
   ]
  },
  {
   "cell_type": "code",
   "execution_count": 27,
   "metadata": {
    "collapsed": true
   },
   "outputs": [],
   "source": [
    "features=df.columns[1:]"
   ]
  },
  {
   "cell_type": "code",
   "execution_count": 28,
   "metadata": {},
   "outputs": [
    {
     "data": {
      "text/plain": [
       "Index(['RevolvingUtilizationOfUnsecuredLines', 'age',\n",
       "       'NumberOfTime30-59DaysPastDueNotWorse', 'DebtRatio', 'MonthlyIncome',\n",
       "       'NumberOfOpenCreditLinesAndLoans', 'NumberOfTimes90DaysLate',\n",
       "       'NumberRealEstateLoansOrLines', 'NumberOfTime60-89DaysPastDueNotWorse',\n",
       "       'NumberOfDependents'],\n",
       "      dtype='object')"
      ]
     },
     "execution_count": 28,
     "metadata": {},
     "output_type": "execute_result"
    }
   ],
   "source": [
    "features"
   ]
  },
  {
   "cell_type": "code",
   "execution_count": 36,
   "metadata": {},
   "outputs": [
    {
     "data": {
      "image/png": "[encoded data removed]",
      "text/plain": [
       "<matplotlib.figure.Figure at 0x295093c2fd0>"
      ]
     },
     "metadata": {},
     "output_type": "display_data"
    }
   ],
   "source": [
    "plt.figure(figsize=(12,28*4))\n",
    "gs = gridspec.GridSpec(28, 1)\n",
    "#针对违约者和未违约者的每个属性，绘制直方图\n",
    "for i, cn in enumerate(features):\n",
    "    ax = plt.subplot(gs[i])\n",
    "    #ax=plt.subplot(12,1,i+1)\n",
    "    sns.distplot(df[cn][df.SeriousDlqin2yrs == 1].dropna(), bins=50,color='red')\n",
    "    sns.distplot(df[cn][df.SeriousDlqin2yrs == 0].dropna(), bins=50,color='blue')\n",
    "    ax.set_xlabel('')\n",
    "    ax.set_title('histogram of feature: ' + str(cn))\n",
    "plt.show()\n"
   ]
  },
  {
   "cell_type": "code",
   "execution_count": 37,
   "metadata": {
    "scrolled": true
   },
   "outputs": [
    {
     "data": {
      "text/plain": [
       "count   149999.00000\n",
       "mean         6.04847\n",
       "std        249.75620\n",
       "min          0.00000\n",
       "25%          0.02987\n",
       "50%          0.15418\n",
       "75%          0.55904\n",
       "max      50708.00000\n",
       "Name: RevolvingUtilizationOfUnsecuredLines, dtype: float64"
      ]
     },
     "execution_count": 37,
     "metadata": {},
     "output_type": "execute_result"
    }
   ],
   "source": [
    "df['RevolvingUtilizationOfUnsecuredLines'].describe() #看该属性的数值分布"
   ]
  },
  {
   "cell_type": "code",
   "execution_count": 38,
   "metadata": {},
   "outputs": [
    {
     "data": {
      "text/plain": [
       "<matplotlib.axes._subplots.AxesSubplot at 0x295093c2320>"
      ]
     },
     "execution_count": 38,
     "metadata": {},
     "output_type": "execute_result"
    },
    {
     "data": {
      "image/png": "[encoded data removed]",
      "text/plain": [
       "<matplotlib.figure.Figure at 0x29508671ef0>"
      ]
     },
     "metadata": {},
     "output_type": "display_data"
    }
   ],
   "source": [
    "df[['RevolvingUtilizationOfUnsecuredLines']].boxplot(sym='r*') #用箱型图查看异常值"
   ]
  },
  {
   "cell_type": "code",
   "execution_count": 39,
   "metadata": {},
   "outputs": [
    {
     "name": "stdout",
     "output_type": "stream",
     "text": [
      "[<matplotlib.lines.Line2D object at 0x000002950AC455F8>]\n"
     ]
    },
    {
     "data": {
      "text/plain": [
       "(763, 2)"
      ]
     },
     "execution_count": 39,
     "metadata": {},
     "output_type": "execute_result"
    },
    {
     "data": {
      "image/png": "[encoded data removed]",
      "text/plain": [
       "<matplotlib.figure.Figure at 0x29508671a58>"
      ]
     },
     "metadata": {},
     "output_type": "display_data"
    }
   ],
   "source": [
    "p=df[['RevolvingUtilizationOfUnsecuredLines']].boxplot(return_type='dict')\n",
    "#return_type='dict'时，会返回数据集的异常值\n",
    "#print(p)\n",
    "print(p['fliers'])\n",
    "outliers=p['fliers'][0].get_xydata()#get_xydata()把异常值返回到一个二维数组中\n",
    "outliers.shape\n",
    "#print(outliers)\n"
   ]
  },
  {
   "cell_type": "code",
   "execution_count": 40,
   "metadata": {},
   "outputs": [
    {
     "data": {
      "text/plain": [
       "1.3534146969999998"
      ]
     },
     "execution_count": 40,
     "metadata": {},
     "output_type": "execute_result"
    }
   ],
   "source": [
    "outliers[:,1:].min() #看看最小的异常值是多少"
   ]
  },
  {
   "cell_type": "code",
   "execution_count": 41,
   "metadata": {},
   "outputs": [
    {
     "data": {
      "text/plain": [
       "<matplotlib.axes._subplots.AxesSubplot at 0x295056f2c88>"
      ]
     },
     "execution_count": 41,
     "metadata": {},
     "output_type": "execute_result"
    },
    {
     "data": {
      "image/png": "[encoded data removed]",
      "text/plain": [
       "<matplotlib.figure.Figure at 0x29508c3e080>"
      ]
     },
     "metadata": {},
     "output_type": "display_data"
    }
   ],
   "source": [
    "sns.distplot(df['RevolvingUtilizationOfUnsecuredLines'][(df.SeriousDlqin2yrs == 1) & (df.RevolvingUtilizationOfUnsecuredLines<1.4)], bins=20,color='red')\n",
    "sns.distplot(df['RevolvingUtilizationOfUnsecuredLines'][(df.SeriousDlqin2yrs == 0) & (df.RevolvingUtilizationOfUnsecuredLines<1.4)], bins=20,color='blue')"
   ]
  },
  {
   "cell_type": "code",
   "execution_count": 54,
   "metadata": {},
   "outputs": [
    {
     "data": {
      "image/png": "[encoded data removed]",
      "text/plain": [
       "<matplotlib.figure.Figure at 0x2950ac22860>"
      ]
     },
     "metadata": {},
     "output_type": "display_data"
    }
   ],
   "source": [
    "col_min={}\n",
    "for  feature in features:    \n",
    "    p=df[[feature]].boxplot(return_type='dict')\n",
    "    outliers=p['fliers'][0].get_xydata()\n",
    "    pmin=outliers[:,1:].min()\n",
    "    col_min[feature]=[outliers.shape[0],pmin]\n"
   ]
  },
  {
   "cell_type": "code",
   "execution_count": 37,
   "metadata": {},
   "outputs": [
    {
     "data": {
      "text/plain": [
       "{'DebtRatio': [31311, 1.9080459769999998],\n",
       " 'MonthlyIncome': [4879, 15523.0],\n",
       " 'NumberOfDependents': [13336, 3.0],\n",
       " 'NumberOfOpenCreditLinesAndLoans': [3980, 21.0],\n",
       " 'NumberOfTime30-59DaysPastDueNotWorse': [23981, 1.0],\n",
       " 'NumberOfTime60-89DaysPastDueNotWorse': [7604, 1.0],\n",
       " 'NumberOfTimes90DaysLate': [8338, 1.0],\n",
       " 'NumberRealEstateLoansOrLines': [793, 6.0],\n",
       " 'RevolvingUtilizationOfUnsecuredLines': [763, 1.3534146969999998],\n",
       " 'age': [45, 97.0]}"
      ]
     },
     "execution_count": 37,
     "metadata": {},
     "output_type": "execute_result"
    }
   ],
   "source": [
    "col_min"
   ]
  },
  {
   "cell_type": "code",
   "execution_count": 36,
   "metadata": {},
   "outputs": [
    {
     "data": {
      "text/plain": [
       "<matplotlib.axes._subplots.AxesSubplot at 0x2345eebbd30>"
      ]
     },
     "execution_count": 36,
     "metadata": {},
     "output_type": "execute_result"
    },
    {
     "data": {
      "image/png": "[encoded data removed]",
      "text/plain": [
       "<matplotlib.figure.Figure at 0x2345a8fbdd8>"
      ]
     },
     "metadata": {},
     "output_type": "display_data"
    }
   ],
   "source": [
    "#结合异常值和该属性上的数值分布，选定取值范围作图。因为每个属性的选取范围和bins不同，所以不进行统一绘图，而是一个一个绘制。\n",
    "sns.distplot(df['DebtRatio'][(df.SeriousDlqin2yrs == 1) & (df.DebtRatio<5)], bins=20,color='red')\n",
    "sns.distplot(df['DebtRatio'][(df.SeriousDlqin2yrs == 0) & (df.DebtRatio<5)], bins=20,color='blue')\n"
   ]
  },
  {
   "cell_type": "code",
   "execution_count": 38,
   "metadata": {},
   "outputs": [
    {
     "data": {
      "text/plain": [
       "<matplotlib.axes._subplots.AxesSubplot at 0x234601683c8>"
      ]
     },
     "execution_count": 38,
     "metadata": {},
     "output_type": "execute_result"
    },
    {
     "data": {
      "image/png": "[encoded data removed]",
      "text/plain": [
       "<matplotlib.figure.Figure at 0x2345ed05080>"
      ]
     },
     "metadata": {},
     "output_type": "display_data"
    }
   ],
   "source": [
    "sns.distplot(df['NumberOfOpenCreditLinesAndLoans'][(df.SeriousDlqin2yrs == 1) & (df.NumberOfOpenCreditLinesAndLoans<30)], bins=30,color='red')\n",
    "sns.distplot(df['NumberOfOpenCreditLinesAndLoans'][(df.SeriousDlqin2yrs == 0) & (df.NumberOfOpenCreditLinesAndLoans<30)], bins=30,color='blue')"
   ]
  },
  {
   "cell_type": "code",
   "execution_count": 39,
   "metadata": {},
   "outputs": [
    {
     "data": {
      "text/plain": [
       "<matplotlib.axes._subplots.AxesSubplot at 0x234602a70b8>"
      ]
     },
     "execution_count": 39,
     "metadata": {},
     "output_type": "execute_result"
    },
    {
     "data": {
      "image/png": "[encoded data removed]",
      "text/plain": [
       "<matplotlib.figure.Figure at 0x2345eee8b00>"
      ]
     },
     "metadata": {},
     "output_type": "display_data"
    }
   ],
   "source": [
    "sns.distplot(df['age'][df.SeriousDlqin2yrs == 1] ,bins=50,color='red')\n",
    "sns.distplot(df['age'][df.SeriousDlqin2yrs == 0], bins=50,color='blue')\n"
   ]
  },
  {
   "cell_type": "code",
   "execution_count": 40,
   "metadata": {},
   "outputs": [
    {
     "data": {
      "text/plain": [
       "<matplotlib.axes._subplots.AxesSubplot at 0x2345ec22e80>"
      ]
     },
     "execution_count": 40,
     "metadata": {},
     "output_type": "execute_result"
    },
    {
     "data": {
      "image/png": "[encoded data removed]",
      "text/plain": [
       "<matplotlib.figure.Figure at 0x2345ee3ad30>"
      ]
     },
     "metadata": {},
     "output_type": "display_data"
    }
   ],
   "source": [
    "sns.distplot(df['NumberOfTime30-59DaysPastDueNotWorse'][(df.SeriousDlqin2yrs == 1) & (df['NumberOfTime30-59DaysPastDueNotWorse']<10)], bins=10,color='red')\n",
    "sns.distplot(df['NumberOfTime30-59DaysPastDueNotWorse'][(df.SeriousDlqin2yrs == 0) & (df['NumberOfTime30-59DaysPastDueNotWorse']<10)], bins=10,color='blue')\n"
   ]
  },
  {
   "cell_type": "code",
   "execution_count": 41,
   "metadata": {},
   "outputs": [
    {
     "data": {
      "text/plain": [
       "<matplotlib.axes._subplots.AxesSubplot at 0x23460565c88>"
      ]
     },
     "execution_count": 41,
     "metadata": {},
     "output_type": "execute_result"
    },
    {
     "data": {
      "image/png": "[encoded data removed]",
      "text/plain": [
       "<matplotlib.figure.Figure at 0x234608b6d30>"
      ]
     },
     "metadata": {},
     "output_type": "display_data"
    }
   ],
   "source": [
    "sns.distplot(df['NumberOfTime60-89DaysPastDueNotWorse'][(df.SeriousDlqin2yrs == 1) & (df['NumberOfTime60-89DaysPastDueNotWorse']<10)], bins=10,color='red')\n",
    "sns.distplot(df['NumberOfTime60-89DaysPastDueNotWorse'][(df.SeriousDlqin2yrs == 0) & (df['NumberOfTime60-89DaysPastDueNotWorse']<10)], bins=10,color='blue')\n"
   ]
  },
  {
   "cell_type": "code",
   "execution_count": 42,
   "metadata": {},
   "outputs": [
    {
     "data": {
      "text/plain": [
       "<matplotlib.axes._subplots.AxesSubplot at 0x2346061ec88>"
      ]
     },
     "execution_count": 42,
     "metadata": {},
     "output_type": "execute_result"
    },
    {
     "data": {
      "image/png": "[encoded data removed]",
      "text/plain": [
       "<matplotlib.figure.Figure at 0x2345e31a860>"
      ]
     },
     "metadata": {},
     "output_type": "display_data"
    }
   ],
   "source": [
    "sns.distplot(df['NumberOfTimes90DaysLate'][(df.SeriousDlqin2yrs == 1) & (df.NumberOfTimes90DaysLate<10)], bins=10,color='red')\n",
    "sns.distplot(df['NumberOfTimes90DaysLate'][(df.SeriousDlqin2yrs == 0) & (df.NumberOfTimes90DaysLate<10)], bins=10,color='blue')\n"
   ]
  },
  {
   "cell_type": "code",
   "execution_count": 43,
   "metadata": {},
   "outputs": [
    {
     "data": {
      "text/plain": [
       "<matplotlib.axes._subplots.AxesSubplot at 0x234611d2128>"
      ]
     },
     "execution_count": 43,
     "metadata": {},
     "output_type": "execute_result"
    },
    {
     "data": {
      "image/png": "[encoded data removed]",
      "text/plain": [
       "<matplotlib.figure.Figure at 0x23460428b38>"
      ]
     },
     "metadata": {},
     "output_type": "display_data"
    }
   ],
   "source": [
    "sns.distplot(df['NumberRealEstateLoansOrLines'][(df.SeriousDlqin2yrs == 1) & (df.NumberRealEstateLoansOrLines<10)], bins=10,color='red')\n",
    "sns.distplot(df['NumberRealEstateLoansOrLines'][(df.SeriousDlqin2yrs == 0) & (df.NumberRealEstateLoansOrLines<10)], bins=10,color='blue')\n"
   ]
  },
  {
   "cell_type": "code",
   "execution_count": null,
   "metadata": {
    "collapsed": true
   },
   "outputs": [],
   "source": []
  }
 ],
 "metadata": {
  "kernelspec": {
   "display_name": "Python 3",
   "language": "python",
   "name": "python3"
  },
  "language_info": {
   "codemirror_mode": {
    "name": "ipython",
    "version": 3
   },
   "file_extension": ".py",
   "mimetype": "text/x-python",
   "name": "python",
   "nbconvert_exporter": "python",
   "pygments_lexer": "ipython3",
   "version": "3.6.1"
  }
 },
 "nbformat": 4,
 "nbformat_minor": 2
}
