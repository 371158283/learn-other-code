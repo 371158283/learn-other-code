{
 "cells": [
  {
   "cell_type": "code",
   "execution_count": 1,
   "metadata": {},
   "outputs": [
    {
     "name": "stderr",
     "output_type": "stream",
     "text": [
      "d:\\ProgramData\\Anaconda3\\lib\\site-packages\\sklearn\\cross_validation.py:44: DeprecationWarning: This module was deprecated in version 0.18 in favor of the model_selection module into which all the refactored classes and functions are moved. Also note that the interface of the new CV iterators are different from that of this module. This module will be removed in 0.20.\n",
      "  \"This module will be removed in 0.20.\", DeprecationWarning)\n"
     ]
    }
   ],
   "source": [
    "from __future__ import print_function\n",
    "from __future__ import division\n",
    "\n",
    "from sklearn.datasets import make_classification\n",
    "from sklearn.cross_validation import cross_val_score\n",
    "from sklearn.ensemble import RandomForestClassifier as RFC\n",
    "from sklearn.svm import SVC\n",
    "\n",
    "from bayes_opt import BayesianOptimization"
   ]
  },
  {
   "cell_type": "code",
   "execution_count": 2,
   "metadata": {
    "collapsed": true
   },
   "outputs": [],
   "source": [
    "# Load data set and target values\n",
    "data, target = make_classification(\n",
    "    n_samples=1000,\n",
    "    n_features=45,\n",
    "    n_informative=12,\n",
    "    n_redundant=7\n",
    ")"
   ]
  },
  {
   "cell_type": "code",
   "execution_count": 3,
   "metadata": {
    "collapsed": true
   },
   "outputs": [],
   "source": [
    "def svccv(C, gamma):\n",
    "    val = cross_val_score(\n",
    "        SVC(C=C, gamma=gamma, random_state=2),\n",
    "        data, target, 'f1', cv=2\n",
    "    ).mean()\n",
    "\n",
    "    return val\n",
    "\n",
    "def rfccv(n_estimators, min_samples_split, max_features):\n",
    "    val = cross_val_score(\n",
    "        RFC(n_estimators=int(n_estimators),\n",
    "            min_samples_split=int(min_samples_split),\n",
    "            max_features=min(max_features, 0.999),\n",
    "            random_state=2\n",
    "        ),\n",
    "        data, target, 'f1', cv=2\n",
    "    ).mean()\n",
    "    return val"
   ]
  },
  {
   "cell_type": "code",
   "execution_count": 4,
   "metadata": {
    "collapsed": true
   },
   "outputs": [],
   "source": [
    "gp_params = {\"alpha\": 1e-5}\n",
    "\n",
    "svcBO = BayesianOptimization(svccv,\n",
    "        {'C': (0.001, 100), 'gamma': (0.0001, 0.1)})\n",
    "svcBO.explore({'C': [0.001, 0.01, 0.1], 'gamma': [0.001, 0.01, 0.1]})\n",
    "\n",
    "rfcBO = BayesianOptimization(\n",
    "        rfccv,\n",
    "        {'n_estimators': (10, 250),\n",
    "        'min_samples_split': (2, 25),\n",
    "        'max_features': (0.1, 0.999)}\n",
    "    )\n",
    "\n",
    "\n"
   ]
  },
  {
   "cell_type": "code",
   "execution_count": 5,
   "metadata": {},
   "outputs": [
    {
     "name": "stdout",
     "output_type": "stream",
     "text": [
      "\u001b[31mInitialization\u001b[0m\n",
      "\u001b[94m-----------------------------------------------------\u001b[0m\n",
      " Step |   Time |      Value |         C |     gamma | \n",
      "    1 | 00m00s | \u001b[35m   0.66755\u001b[0m | \u001b[32m   0.0010\u001b[0m | \u001b[32m   0.0010\u001b[0m | \n",
      "    2 | 00m00s |    0.66755 |    0.0100 |    0.0100 | \n",
      "    3 | 00m00s |    0.66755 |    0.1000 |    0.1000 | \n",
      "    4 | 00m00s | \u001b[35m   0.88966\u001b[0m | \u001b[32m  38.6644\u001b[0m | \u001b[32m   0.0516\u001b[0m | \n",
      "    5 | 00m00s |    0.71895 |   33.6271 |    0.0917 | \n",
      "    6 | 00m00s |    0.70555 |   63.2100 |    0.0955 | \n",
      "    7 | 00m00s |    0.83455 |   18.6330 |    0.0700 | \n",
      "    8 | 00m00s |    0.88678 |   96.6106 |    0.0529 | \n",
      "\u001b[31mBayesian Optimization\u001b[0m\n",
      "\u001b[94m-----------------------------------------------------\u001b[0m\n",
      " Step |   Time |      Value |         C |     gamma | \n",
      "    9 | 00m08s |    0.86706 |   82.6372 |    0.0001 | \n",
      "   10 | 00m05s |    0.85752 |   49.8801 |    0.0001 | \n",
      "   11 | 00m04s |    0.84436 |   10.1086 |    0.0001 | \n",
      "   12 | 00m04s |    0.68937 |   90.1402 |    0.1000 | \n",
      "   13 | 00m05s |    0.86147 |   74.0137 |    0.0001 | \n",
      "   14 | 00m04s |    0.68937 |  100.0000 |    0.1000 | \n",
      "   15 | 00m03s |    0.68937 |   44.3300 |    0.1000 | \n",
      "   16 | 00m04s |    0.86389 |   56.0753 |    0.0001 | \n",
      "   17 | 00m04s |    0.68937 |   78.3456 |    0.1000 | \n",
      "   18 | 00m04s |    0.85312 |   24.9388 |    0.0001 | \n",
      "-----------------------------------------------------\n"
     ]
    }
   ],
   "source": [
    "svcBO.maximize(n_iter=10, **gp_params)\n",
    "print('-' * 53)"
   ]
  },
  {
   "cell_type": "code",
   "execution_count": 6,
   "metadata": {},
   "outputs": [
    {
     "name": "stdout",
     "output_type": "stream",
     "text": [
      "\u001b[31mInitialization\u001b[0m\n",
      "\u001b[94m-------------------------------------------------------------------------------------\u001b[0m\n",
      " Step |   Time |      Value |   max_features |   min_samples_split |   n_estimators | \n",
      "    1 | 00m00s | \u001b[35m   0.86383\u001b[0m | \u001b[32m        0.4437\u001b[0m | \u001b[32m             3.0557\u001b[0m | \u001b[32m       64.1150\u001b[0m | \n",
      "    2 | 00m02s |    0.86096 |         0.7809 |             20.4751 |       112.6625 | \n",
      "    3 | 00m01s | \u001b[35m   0.87683\u001b[0m | \u001b[32m        0.3851\u001b[0m | \u001b[32m             6.7568\u001b[0m | \u001b[32m      124.3749\u001b[0m | \n",
      "    4 | 00m03s |    0.86259 |         0.7705 |             17.6409 |       176.3991 | \n",
      "    5 | 00m00s |    0.85980 |         0.5737 |             16.2066 |        49.6330 | \n",
      "\u001b[31mBayesian Optimization\u001b[0m\n",
      "\u001b[94m-------------------------------------------------------------------------------------\u001b[0m\n",
      " Step |   Time |      Value |   max_features |   min_samples_split |   n_estimators | \n",
      "    6 | 00m25s |    0.85448 |         0.9990 |              2.0000 |       250.0000 | \n",
      "    7 | 00m16s |    0.86803 |         0.7655 |              2.0008 |       137.1176 | \n",
      "    8 | 00m12s |    0.86742 |         0.1466 |              2.0541 |       129.1306 | \n",
      "    9 | 00m12s | \u001b[35m   0.88021\u001b[0m | \u001b[32m        0.1683\u001b[0m | \u001b[32m             2.0538\u001b[0m | \u001b[32m      131.9504\u001b[0m | \n",
      "   10 | 00m14s | \u001b[35m   0.88499\u001b[0m | \u001b[32m        0.1172\u001b[0m | \u001b[32m             2.0029\u001b[0m | \u001b[32m      138.6648\u001b[0m | \n",
      "   11 | 00m12s | \u001b[35m   0.88546\u001b[0m | \u001b[32m        0.1276\u001b[0m | \u001b[32m             2.0819\u001b[0m | \u001b[32m      139.7037\u001b[0m | \n"
     ]
    },
    {
     "name": "stderr",
     "output_type": "stream",
     "text": [
      "d:\\ProgramData\\Anaconda3\\lib\\site-packages\\sklearn\\gaussian_process\\gpr.py:427: UserWarning: fmin_l_bfgs_b terminated abnormally with the  state: {'grad': array([ -3.71351263e-05]), 'task': b'ABNORMAL_TERMINATION_IN_LNSRCH', 'funcalls': 50, 'nit': 4, 'warnflag': 2}\n",
      "  \" state: %s\" % convergence_dict)\n"
     ]
    },
    {
     "name": "stdout",
     "output_type": "stream",
     "text": [
      "   12 | 00m14s |    0.87510 |         0.1637 |              2.0758 |       154.8331 | \n",
      "   13 | 00m13s | \u001b[35m   0.89000\u001b[0m | \u001b[32m        0.1211\u001b[0m | \u001b[32m             2.0348\u001b[0m | \u001b[32m      148.2286\u001b[0m | \n",
      "   14 | 00m06s |    0.75462 |         0.1039 |              2.5232 |        10.4599 | \n",
      "   15 | 00m09s |    0.87487 |         0.2349 |             24.8816 |       249.7517 | \n",
      "-----------------------------------------------------\n"
     ]
    }
   ],
   "source": [
    "rfcBO.maximize(n_iter=10, **gp_params)\n",
    "print('-' * 53)"
   ]
  },
  {
   "cell_type": "code",
   "execution_count": 7,
   "metadata": {},
   "outputs": [
    {
     "name": "stdout",
     "output_type": "stream",
     "text": [
      "Final Results\n",
      "SVC: 0.889663\n",
      "RFC: 0.889995\n"
     ]
    }
   ],
   "source": [
    "print('Final Results')\n",
    "print('SVC: %f' % svcBO.res['max']['max_val'])\n",
    "print('RFC: %f' % rfcBO.res['max']['max_val'])"
   ]
  },
  {
   "cell_type": "code",
   "execution_count": null,
   "metadata": {
    "collapsed": true
   },
   "outputs": [],
   "source": []
  }
 ],
 "metadata": {
  "kernelspec": {
   "display_name": "Python 3",
   "language": "python",
   "name": "python3"
  },
  "language_info": {
   "codemirror_mode": {
    "name": "ipython",
    "version": 3
   },
   "file_extension": ".py",
   "mimetype": "text/x-python",
   "name": "python",
   "nbconvert_exporter": "python",
   "pygments_lexer": "ipython3",
   "version": "3.6.1"
  }
 },
 "nbformat": 4,
 "nbformat_minor": 2
}
